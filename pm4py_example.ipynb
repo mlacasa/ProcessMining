{
  "nbformat": 4,
  "nbformat_minor": 0,
  "metadata": {
    "colab": {
      "provenance": [],
      "mount_file_id": "1GPghhByKNGnXGfXVZ2nrPJ40dD06B6ZW",
      "authorship_tag": "ABX9TyODJLGkvyF8a55mx0GyeAe4",
      "include_colab_link": true
    },
    "kernelspec": {
      "name": "python3",
      "display_name": "Python 3"
    },
    "language_info": {
      "name": "python"
    },
    "widgets": {
      "application/vnd.jupyter.widget-state+json": {
        "3a1c321928004df69964e63d03851776": {
          "model_module": "@jupyter-widgets/controls",
          "model_name": "HBoxModel",
          "model_module_version": "1.5.0",
          "state": {
            "_dom_classes": [],
            "_model_module": "@jupyter-widgets/controls",
            "_model_module_version": "1.5.0",
            "_model_name": "HBoxModel",
            "_view_count": null,
            "_view_module": "@jupyter-widgets/controls",
            "_view_module_version": "1.5.0",
            "_view_name": "HBoxView",
            "box_style": "",
            "children": [
              "IPY_MODEL_91b48aa042be44f392762f57292a6657",
              "IPY_MODEL_0dbf3ec3dd31489fbbba9226f48d3a8d",
              "IPY_MODEL_f8b184a75ecc4d7f82d332b672da3524"
            ],
            "layout": "IPY_MODEL_a7bda55a3200416881942319d1f13898"
          }
        },
        "91b48aa042be44f392762f57292a6657": {
          "model_module": "@jupyter-widgets/controls",
          "model_name": "HTMLModel",
          "model_module_version": "1.5.0",
          "state": {
            "_dom_classes": [],
            "_model_module": "@jupyter-widgets/controls",
            "_model_module_version": "1.5.0",
            "_model_name": "HTMLModel",
            "_view_count": null,
            "_view_module": "@jupyter-widgets/controls",
            "_view_module_version": "1.5.0",
            "_view_name": "HTMLView",
            "description": "",
            "description_tooltip": null,
            "layout": "IPY_MODEL_fedf703dc7c74e5dbeeedead5ed59457",
            "placeholder": "​",
            "style": "IPY_MODEL_7a7559037e434e9ba1ce00cf257c7dc2",
            "value": "replaying log with TBR, completed variants :: 100%"
          }
        },
        "0dbf3ec3dd31489fbbba9226f48d3a8d": {
          "model_module": "@jupyter-widgets/controls",
          "model_name": "FloatProgressModel",
          "model_module_version": "1.5.0",
          "state": {
            "_dom_classes": [],
            "_model_module": "@jupyter-widgets/controls",
            "_model_module_version": "1.5.0",
            "_model_name": "FloatProgressModel",
            "_view_count": null,
            "_view_module": "@jupyter-widgets/controls",
            "_view_module_version": "1.5.0",
            "_view_name": "ProgressView",
            "bar_style": "success",
            "description": "",
            "description_tooltip": null,
            "layout": "IPY_MODEL_ec3f72a1bf47450daafc28ec61910c1f",
            "max": 15,
            "min": 0,
            "orientation": "horizontal",
            "style": "IPY_MODEL_22b96bf6b0c24aa68a8b8f17e443c283",
            "value": 15
          }
        },
        "f8b184a75ecc4d7f82d332b672da3524": {
          "model_module": "@jupyter-widgets/controls",
          "model_name": "HTMLModel",
          "model_module_version": "1.5.0",
          "state": {
            "_dom_classes": [],
            "_model_module": "@jupyter-widgets/controls",
            "_model_module_version": "1.5.0",
            "_model_name": "HTMLModel",
            "_view_count": null,
            "_view_module": "@jupyter-widgets/controls",
            "_view_module_version": "1.5.0",
            "_view_name": "HTMLView",
            "description": "",
            "description_tooltip": null,
            "layout": "IPY_MODEL_b713224f594b46a7818d9853f2ddaa01",
            "placeholder": "​",
            "style": "IPY_MODEL_3fd491c849524fbf922d36f5660544ba",
            "value": " 15/15 [00:00&lt;00:00, 250.84it/s]"
          }
        },
        "a7bda55a3200416881942319d1f13898": {
          "model_module": "@jupyter-widgets/base",
          "model_name": "LayoutModel",
          "model_module_version": "1.2.0",
          "state": {
            "_model_module": "@jupyter-widgets/base",
            "_model_module_version": "1.2.0",
            "_model_name": "LayoutModel",
            "_view_count": null,
            "_view_module": "@jupyter-widgets/base",
            "_view_module_version": "1.2.0",
            "_view_name": "LayoutView",
            "align_content": null,
            "align_items": null,
            "align_self": null,
            "border": null,
            "bottom": null,
            "display": null,
            "flex": null,
            "flex_flow": null,
            "grid_area": null,
            "grid_auto_columns": null,
            "grid_auto_flow": null,
            "grid_auto_rows": null,
            "grid_column": null,
            "grid_gap": null,
            "grid_row": null,
            "grid_template_areas": null,
            "grid_template_columns": null,
            "grid_template_rows": null,
            "height": null,
            "justify_content": null,
            "justify_items": null,
            "left": null,
            "margin": null,
            "max_height": null,
            "max_width": null,
            "min_height": null,
            "min_width": null,
            "object_fit": null,
            "object_position": null,
            "order": null,
            "overflow": null,
            "overflow_x": null,
            "overflow_y": null,
            "padding": null,
            "right": null,
            "top": null,
            "visibility": null,
            "width": null
          }
        },
        "fedf703dc7c74e5dbeeedead5ed59457": {
          "model_module": "@jupyter-widgets/base",
          "model_name": "LayoutModel",
          "model_module_version": "1.2.0",
          "state": {
            "_model_module": "@jupyter-widgets/base",
            "_model_module_version": "1.2.0",
            "_model_name": "LayoutModel",
            "_view_count": null,
            "_view_module": "@jupyter-widgets/base",
            "_view_module_version": "1.2.0",
            "_view_name": "LayoutView",
            "align_content": null,
            "align_items": null,
            "align_self": null,
            "border": null,
            "bottom": null,
            "display": null,
            "flex": null,
            "flex_flow": null,
            "grid_area": null,
            "grid_auto_columns": null,
            "grid_auto_flow": null,
            "grid_auto_rows": null,
            "grid_column": null,
            "grid_gap": null,
            "grid_row": null,
            "grid_template_areas": null,
            "grid_template_columns": null,
            "grid_template_rows": null,
            "height": null,
            "justify_content": null,
            "justify_items": null,
            "left": null,
            "margin": null,
            "max_height": null,
            "max_width": null,
            "min_height": null,
            "min_width": null,
            "object_fit": null,
            "object_position": null,
            "order": null,
            "overflow": null,
            "overflow_x": null,
            "overflow_y": null,
            "padding": null,
            "right": null,
            "top": null,
            "visibility": null,
            "width": null
          }
        },
        "7a7559037e434e9ba1ce00cf257c7dc2": {
          "model_module": "@jupyter-widgets/controls",
          "model_name": "DescriptionStyleModel",
          "model_module_version": "1.5.0",
          "state": {
            "_model_module": "@jupyter-widgets/controls",
            "_model_module_version": "1.5.0",
            "_model_name": "DescriptionStyleModel",
            "_view_count": null,
            "_view_module": "@jupyter-widgets/base",
            "_view_module_version": "1.2.0",
            "_view_name": "StyleView",
            "description_width": ""
          }
        },
        "ec3f72a1bf47450daafc28ec61910c1f": {
          "model_module": "@jupyter-widgets/base",
          "model_name": "LayoutModel",
          "model_module_version": "1.2.0",
          "state": {
            "_model_module": "@jupyter-widgets/base",
            "_model_module_version": "1.2.0",
            "_model_name": "LayoutModel",
            "_view_count": null,
            "_view_module": "@jupyter-widgets/base",
            "_view_module_version": "1.2.0",
            "_view_name": "LayoutView",
            "align_content": null,
            "align_items": null,
            "align_self": null,
            "border": null,
            "bottom": null,
            "display": null,
            "flex": null,
            "flex_flow": null,
            "grid_area": null,
            "grid_auto_columns": null,
            "grid_auto_flow": null,
            "grid_auto_rows": null,
            "grid_column": null,
            "grid_gap": null,
            "grid_row": null,
            "grid_template_areas": null,
            "grid_template_columns": null,
            "grid_template_rows": null,
            "height": null,
            "justify_content": null,
            "justify_items": null,
            "left": null,
            "margin": null,
            "max_height": null,
            "max_width": null,
            "min_height": null,
            "min_width": null,
            "object_fit": null,
            "object_position": null,
            "order": null,
            "overflow": null,
            "overflow_x": null,
            "overflow_y": null,
            "padding": null,
            "right": null,
            "top": null,
            "visibility": null,
            "width": null
          }
        },
        "22b96bf6b0c24aa68a8b8f17e443c283": {
          "model_module": "@jupyter-widgets/controls",
          "model_name": "ProgressStyleModel",
          "model_module_version": "1.5.0",
          "state": {
            "_model_module": "@jupyter-widgets/controls",
            "_model_module_version": "1.5.0",
            "_model_name": "ProgressStyleModel",
            "_view_count": null,
            "_view_module": "@jupyter-widgets/base",
            "_view_module_version": "1.2.0",
            "_view_name": "StyleView",
            "bar_color": null,
            "description_width": ""
          }
        },
        "b713224f594b46a7818d9853f2ddaa01": {
          "model_module": "@jupyter-widgets/base",
          "model_name": "LayoutModel",
          "model_module_version": "1.2.0",
          "state": {
            "_model_module": "@jupyter-widgets/base",
            "_model_module_version": "1.2.0",
            "_model_name": "LayoutModel",
            "_view_count": null,
            "_view_module": "@jupyter-widgets/base",
            "_view_module_version": "1.2.0",
            "_view_name": "LayoutView",
            "align_content": null,
            "align_items": null,
            "align_self": null,
            "border": null,
            "bottom": null,
            "display": null,
            "flex": null,
            "flex_flow": null,
            "grid_area": null,
            "grid_auto_columns": null,
            "grid_auto_flow": null,
            "grid_auto_rows": null,
            "grid_column": null,
            "grid_gap": null,
            "grid_row": null,
            "grid_template_areas": null,
            "grid_template_columns": null,
            "grid_template_rows": null,
            "height": null,
            "justify_content": null,
            "justify_items": null,
            "left": null,
            "margin": null,
            "max_height": null,
            "max_width": null,
            "min_height": null,
            "min_width": null,
            "object_fit": null,
            "object_position": null,
            "order": null,
            "overflow": null,
            "overflow_x": null,
            "overflow_y": null,
            "padding": null,
            "right": null,
            "top": null,
            "visibility": null,
            "width": null
          }
        },
        "3fd491c849524fbf922d36f5660544ba": {
          "model_module": "@jupyter-widgets/controls",
          "model_name": "DescriptionStyleModel",
          "model_module_version": "1.5.0",
          "state": {
            "_model_module": "@jupyter-widgets/controls",
            "_model_module_version": "1.5.0",
            "_model_name": "DescriptionStyleModel",
            "_view_count": null,
            "_view_module": "@jupyter-widgets/base",
            "_view_module_version": "1.2.0",
            "_view_name": "StyleView",
            "description_width": ""
          }
        }
      }
    }
  },
  "cells": [
    {
      "cell_type": "markdown",
      "metadata": {
        "id": "view-in-github",
        "colab_type": "text"
      },
      "source": [
        "<a href=\"https://colab.research.google.com/github/mlacasa/ProcessMining/blob/main/pm4py_example.ipynb\" target=\"_parent\"><img src=\"https://colab.research.google.com/assets/colab-badge.svg\" alt=\"Open In Colab\"/></a>"
      ]
    },
    {
      "cell_type": "markdown",
      "source": [
        "# Ejemplo de uso de la libreria PM4PY\n",
        "\n",
        "Dataset: https://gitlab.com/healthcare2/process-mining-tutorial/-/blob/master/ArtificialPatientTreatment.csv"
      ],
      "metadata": {
        "id": "zCo0yii3s67Q"
      }
    },
    {
      "cell_type": "code",
      "source": [
        "pip install pm4py"
      ],
      "metadata": {
        "colab": {
          "base_uri": "https://localhost:8080/"
        },
        "id": "NMbftLkbtZ_3",
        "outputId": "3d231997-1f49-4a00-e6c0-35bc3dca738e"
      },
      "execution_count": null,
      "outputs": [
        {
          "output_type": "stream",
          "name": "stdout",
          "text": [
            "Looking in indexes: https://pypi.org/simple, https://us-python.pkg.dev/colab-wheels/public/simple/\n",
            "Collecting pm4py\n",
            "  Downloading pm4py-2.3.2-py3-none-any.whl (1.5 MB)\n",
            "\u001b[K     |████████████████████████████████| 1.5 MB 23.8 MB/s \n",
            "\u001b[?25hRequirement already satisfied: intervaltree in /usr/local/lib/python3.8/dist-packages (from pm4py) (2.1.0)\n",
            "Requirement already satisfied: lxml in /usr/local/lib/python3.8/dist-packages (from pm4py) (4.9.1)\n",
            "Requirement already satisfied: sympy in /usr/local/lib/python3.8/dist-packages (from pm4py) (1.7.1)\n",
            "Collecting jsonpickle\n",
            "  Downloading jsonpickle-3.0.0-py2.py3-none-any.whl (40 kB)\n",
            "\u001b[K     |████████████████████████████████| 40 kB 2.5 MB/s \n",
            "\u001b[?25hRequirement already satisfied: matplotlib in /usr/local/lib/python3.8/dist-packages (from pm4py) (3.2.2)\n",
            "Requirement already satisfied: pydotplus in /usr/local/lib/python3.8/dist-packages (from pm4py) (2.0.2)\n",
            "Collecting pyvis\n",
            "  Downloading pyvis-0.3.1.tar.gz (748 kB)\n",
            "\u001b[K     |████████████████████████████████| 748 kB 18.0 MB/s \n",
            "\u001b[?25hRequirement already satisfied: pandas>=1.1.5 in /usr/local/lib/python3.8/dist-packages (from pm4py) (1.3.5)\n",
            "Collecting deprecation\n",
            "  Downloading deprecation-2.1.0-py2.py3-none-any.whl (11 kB)\n",
            "Collecting stringdist\n",
            "  Downloading StringDist-1.0.9.tar.gz (7.4 kB)\n",
            "Requirement already satisfied: pytz in /usr/local/lib/python3.8/dist-packages (from pm4py) (2022.6)\n",
            "Requirement already satisfied: tqdm in /usr/local/lib/python3.8/dist-packages (from pm4py) (4.64.1)\n",
            "Requirement already satisfied: numpy>=1.19.5 in /usr/local/lib/python3.8/dist-packages (from pm4py) (1.21.6)\n",
            "Requirement already satisfied: graphviz in /usr/local/lib/python3.8/dist-packages (from pm4py) (0.10.1)\n",
            "Requirement already satisfied: networkx in /usr/local/lib/python3.8/dist-packages (from pm4py) (2.8.8)\n",
            "Requirement already satisfied: scipy in /usr/local/lib/python3.8/dist-packages (from pm4py) (1.7.3)\n",
            "Requirement already satisfied: cvxopt in /usr/local/lib/python3.8/dist-packages (from pm4py) (1.3.0)\n",
            "Requirement already satisfied: python-dateutil>=2.7.3 in /usr/local/lib/python3.8/dist-packages (from pandas>=1.1.5->pm4py) (2.8.2)\n",
            "Requirement already satisfied: six>=1.5 in /usr/local/lib/python3.8/dist-packages (from python-dateutil>=2.7.3->pandas>=1.1.5->pm4py) (1.15.0)\n",
            "Requirement already satisfied: packaging in /usr/local/lib/python3.8/dist-packages (from deprecation->pm4py) (21.3)\n",
            "Requirement already satisfied: sortedcontainers in /usr/local/lib/python3.8/dist-packages (from intervaltree->pm4py) (2.4.0)\n",
            "Requirement already satisfied: cycler>=0.10 in /usr/local/lib/python3.8/dist-packages (from matplotlib->pm4py) (0.11.0)\n",
            "Requirement already satisfied: pyparsing!=2.0.4,!=2.1.2,!=2.1.6,>=2.0.1 in /usr/local/lib/python3.8/dist-packages (from matplotlib->pm4py) (3.0.9)\n",
            "Requirement already satisfied: kiwisolver>=1.0.1 in /usr/local/lib/python3.8/dist-packages (from matplotlib->pm4py) (1.4.4)\n",
            "Requirement already satisfied: jinja2>=2.9.6 in /usr/local/lib/python3.8/dist-packages (from pyvis->pm4py) (2.11.3)\n",
            "Requirement already satisfied: ipython>=5.3.0 in /usr/local/lib/python3.8/dist-packages (from pyvis->pm4py) (7.9.0)\n",
            "Requirement already satisfied: setuptools>=18.5 in /usr/local/lib/python3.8/dist-packages (from ipython>=5.3.0->pyvis->pm4py) (57.4.0)\n",
            "Requirement already satisfied: pexpect in /usr/local/lib/python3.8/dist-packages (from ipython>=5.3.0->pyvis->pm4py) (4.8.0)\n",
            "Requirement already satisfied: pygments in /usr/local/lib/python3.8/dist-packages (from ipython>=5.3.0->pyvis->pm4py) (2.6.1)\n",
            "Requirement already satisfied: backcall in /usr/local/lib/python3.8/dist-packages (from ipython>=5.3.0->pyvis->pm4py) (0.2.0)\n",
            "Requirement already satisfied: prompt-toolkit<2.1.0,>=2.0.0 in /usr/local/lib/python3.8/dist-packages (from ipython>=5.3.0->pyvis->pm4py) (2.0.10)\n",
            "Requirement already satisfied: traitlets>=4.2 in /usr/local/lib/python3.8/dist-packages (from ipython>=5.3.0->pyvis->pm4py) (5.6.0)\n",
            "Collecting jedi>=0.10\n",
            "  Downloading jedi-0.18.2-py2.py3-none-any.whl (1.6 MB)\n",
            "\u001b[K     |████████████████████████████████| 1.6 MB 39.4 MB/s \n",
            "\u001b[?25hRequirement already satisfied: pickleshare in /usr/local/lib/python3.8/dist-packages (from ipython>=5.3.0->pyvis->pm4py) (0.7.5)\n",
            "Requirement already satisfied: decorator in /usr/local/lib/python3.8/dist-packages (from ipython>=5.3.0->pyvis->pm4py) (4.4.2)\n",
            "Requirement already satisfied: parso<0.9.0,>=0.8.0 in /usr/local/lib/python3.8/dist-packages (from jedi>=0.10->ipython>=5.3.0->pyvis->pm4py) (0.8.3)\n",
            "Requirement already satisfied: MarkupSafe>=0.23 in /usr/local/lib/python3.8/dist-packages (from jinja2>=2.9.6->pyvis->pm4py) (2.0.1)\n",
            "Requirement already satisfied: wcwidth in /usr/local/lib/python3.8/dist-packages (from prompt-toolkit<2.1.0,>=2.0.0->ipython>=5.3.0->pyvis->pm4py) (0.2.5)\n",
            "Requirement already satisfied: ptyprocess>=0.5 in /usr/local/lib/python3.8/dist-packages (from pexpect->ipython>=5.3.0->pyvis->pm4py) (0.7.0)\n",
            "Requirement already satisfied: mpmath>=0.19 in /usr/local/lib/python3.8/dist-packages (from sympy->pm4py) (1.2.1)\n",
            "Building wheels for collected packages: pyvis, stringdist\n",
            "  Building wheel for pyvis (setup.py) ... \u001b[?25l\u001b[?25hdone\n",
            "  Created wheel for pyvis: filename=pyvis-0.3.1-py3-none-any.whl size=755850 sha256=8653dffac30dbd2c98dd9b3bfaeee0c82492eea6cfc5c26adf8e649971d9e5f3\n",
            "  Stored in directory: /root/.cache/pip/wheels/a4/0c/61/8469ca276f96ab772c3acc7f47d71e9737cbdf6f446f017f48\n",
            "  Building wheel for stringdist (setup.py) ... \u001b[?25l\u001b[?25hdone\n",
            "  Created wheel for stringdist: filename=StringDist-1.0.9-cp38-cp38-linux_x86_64.whl size=24185 sha256=5494aab8a6b165c49505956dff9c42bab0e79d23f4055365d81439815ce81b1a\n",
            "  Stored in directory: /root/.cache/pip/wheels/7a/64/e2/16f6a25a62a78f951c1715adb24ba2271ae9d7872f42378c3a\n",
            "Successfully built pyvis stringdist\n",
            "Installing collected packages: jedi, jsonpickle, stringdist, pyvis, deprecation, pm4py\n",
            "Successfully installed deprecation-2.1.0 jedi-0.18.2 jsonpickle-3.0.0 pm4py-2.3.2 pyvis-0.3.1 stringdist-1.0.9\n"
          ]
        }
      ]
    },
    {
      "cell_type": "code",
      "execution_count": null,
      "metadata": {
        "id": "YWJdqa4SsyGk"
      },
      "outputs": [],
      "source": [
        "import pandas as pd\n",
        "import pm4py"
      ]
    },
    {
      "cell_type": "code",
      "source": [
        "# Cargamos la dataset\n",
        "df = pd.read_csv('/content/drive/MyDrive/Colab Notebooks/Mineria Processos/ArtificialPatientTreatment.csv')"
      ],
      "metadata": {
        "id": "Uh0B81F6trAB"
      },
      "execution_count": null,
      "outputs": []
    },
    {
      "cell_type": "code",
      "source": [
        "df.head()"
      ],
      "metadata": {
        "colab": {
          "base_uri": "https://localhost:8080/",
          "height": 206
        },
        "id": "w962JPsat5gr",
        "outputId": "35716851-110a-41ce-d855-4b4162d901f2"
      },
      "execution_count": null,
      "outputs": [
        {
          "output_type": "execute_result",
          "data": {
            "text/plain": [
              "     patient           action  org:resource              DateTime\n",
              "0  patient 0    First consult      Dr. Anna   2017-01-02 11:40:11\n",
              "1  patient 0       Blood test           Lab   2017-01-02 12:47:33\n",
              "2  patient 0    Physical test   Nurse Jesse   2017-01-02 12:53:50\n",
              "3  patient 0   Second consult      Dr. Anna   2017-01-02 16:21:06\n",
              "4  patient 0          Surgery   Dr. Charlie   2017-01-05 13:23:09"
            ],
            "text/html": [
              "\n",
              "  <div id=\"df-1ab52c2e-dafc-4500-8dbf-f24f93dd2f07\">\n",
              "    <div class=\"colab-df-container\">\n",
              "      <div>\n",
              "<style scoped>\n",
              "    .dataframe tbody tr th:only-of-type {\n",
              "        vertical-align: middle;\n",
              "    }\n",
              "\n",
              "    .dataframe tbody tr th {\n",
              "        vertical-align: top;\n",
              "    }\n",
              "\n",
              "    .dataframe thead th {\n",
              "        text-align: right;\n",
              "    }\n",
              "</style>\n",
              "<table border=\"1\" class=\"dataframe\">\n",
              "  <thead>\n",
              "    <tr style=\"text-align: right;\">\n",
              "      <th></th>\n",
              "      <th>patient</th>\n",
              "      <th>action</th>\n",
              "      <th>org:resource</th>\n",
              "      <th>DateTime</th>\n",
              "    </tr>\n",
              "  </thead>\n",
              "  <tbody>\n",
              "    <tr>\n",
              "      <th>0</th>\n",
              "      <td>patient 0</td>\n",
              "      <td>First consult</td>\n",
              "      <td>Dr. Anna</td>\n",
              "      <td>2017-01-02 11:40:11</td>\n",
              "    </tr>\n",
              "    <tr>\n",
              "      <th>1</th>\n",
              "      <td>patient 0</td>\n",
              "      <td>Blood test</td>\n",
              "      <td>Lab</td>\n",
              "      <td>2017-01-02 12:47:33</td>\n",
              "    </tr>\n",
              "    <tr>\n",
              "      <th>2</th>\n",
              "      <td>patient 0</td>\n",
              "      <td>Physical test</td>\n",
              "      <td>Nurse Jesse</td>\n",
              "      <td>2017-01-02 12:53:50</td>\n",
              "    </tr>\n",
              "    <tr>\n",
              "      <th>3</th>\n",
              "      <td>patient 0</td>\n",
              "      <td>Second consult</td>\n",
              "      <td>Dr. Anna</td>\n",
              "      <td>2017-01-02 16:21:06</td>\n",
              "    </tr>\n",
              "    <tr>\n",
              "      <th>4</th>\n",
              "      <td>patient 0</td>\n",
              "      <td>Surgery</td>\n",
              "      <td>Dr. Charlie</td>\n",
              "      <td>2017-01-05 13:23:09</td>\n",
              "    </tr>\n",
              "  </tbody>\n",
              "</table>\n",
              "</div>\n",
              "      <button class=\"colab-df-convert\" onclick=\"convertToInteractive('df-1ab52c2e-dafc-4500-8dbf-f24f93dd2f07')\"\n",
              "              title=\"Convert this dataframe to an interactive table.\"\n",
              "              style=\"display:none;\">\n",
              "        \n",
              "  <svg xmlns=\"http://www.w3.org/2000/svg\" height=\"24px\"viewBox=\"0 0 24 24\"\n",
              "       width=\"24px\">\n",
              "    <path d=\"M0 0h24v24H0V0z\" fill=\"none\"/>\n",
              "    <path d=\"M18.56 5.44l.94 2.06.94-2.06 2.06-.94-2.06-.94-.94-2.06-.94 2.06-2.06.94zm-11 1L8.5 8.5l.94-2.06 2.06-.94-2.06-.94L8.5 2.5l-.94 2.06-2.06.94zm10 10l.94 2.06.94-2.06 2.06-.94-2.06-.94-.94-2.06-.94 2.06-2.06.94z\"/><path d=\"M17.41 7.96l-1.37-1.37c-.4-.4-.92-.59-1.43-.59-.52 0-1.04.2-1.43.59L10.3 9.45l-7.72 7.72c-.78.78-.78 2.05 0 2.83L4 21.41c.39.39.9.59 1.41.59.51 0 1.02-.2 1.41-.59l7.78-7.78 2.81-2.81c.8-.78.8-2.07 0-2.86zM5.41 20L4 18.59l7.72-7.72 1.47 1.35L5.41 20z\"/>\n",
              "  </svg>\n",
              "      </button>\n",
              "      \n",
              "  <style>\n",
              "    .colab-df-container {\n",
              "      display:flex;\n",
              "      flex-wrap:wrap;\n",
              "      gap: 12px;\n",
              "    }\n",
              "\n",
              "    .colab-df-convert {\n",
              "      background-color: #E8F0FE;\n",
              "      border: none;\n",
              "      border-radius: 50%;\n",
              "      cursor: pointer;\n",
              "      display: none;\n",
              "      fill: #1967D2;\n",
              "      height: 32px;\n",
              "      padding: 0 0 0 0;\n",
              "      width: 32px;\n",
              "    }\n",
              "\n",
              "    .colab-df-convert:hover {\n",
              "      background-color: #E2EBFA;\n",
              "      box-shadow: 0px 1px 2px rgba(60, 64, 67, 0.3), 0px 1px 3px 1px rgba(60, 64, 67, 0.15);\n",
              "      fill: #174EA6;\n",
              "    }\n",
              "\n",
              "    [theme=dark] .colab-df-convert {\n",
              "      background-color: #3B4455;\n",
              "      fill: #D2E3FC;\n",
              "    }\n",
              "\n",
              "    [theme=dark] .colab-df-convert:hover {\n",
              "      background-color: #434B5C;\n",
              "      box-shadow: 0px 1px 3px 1px rgba(0, 0, 0, 0.15);\n",
              "      filter: drop-shadow(0px 1px 2px rgba(0, 0, 0, 0.3));\n",
              "      fill: #FFFFFF;\n",
              "    }\n",
              "  </style>\n",
              "\n",
              "      <script>\n",
              "        const buttonEl =\n",
              "          document.querySelector('#df-1ab52c2e-dafc-4500-8dbf-f24f93dd2f07 button.colab-df-convert');\n",
              "        buttonEl.style.display =\n",
              "          google.colab.kernel.accessAllowed ? 'block' : 'none';\n",
              "\n",
              "        async function convertToInteractive(key) {\n",
              "          const element = document.querySelector('#df-1ab52c2e-dafc-4500-8dbf-f24f93dd2f07');\n",
              "          const dataTable =\n",
              "            await google.colab.kernel.invokeFunction('convertToInteractive',\n",
              "                                                     [key], {});\n",
              "          if (!dataTable) return;\n",
              "\n",
              "          const docLinkHtml = 'Like what you see? Visit the ' +\n",
              "            '<a target=\"_blank\" href=https://colab.research.google.com/notebooks/data_table.ipynb>data table notebook</a>'\n",
              "            + ' to learn more about interactive tables.';\n",
              "          element.innerHTML = '';\n",
              "          dataTable['output_type'] = 'display_data';\n",
              "          await google.colab.output.renderOutput(dataTable, element);\n",
              "          const docLink = document.createElement('div');\n",
              "          docLink.innerHTML = docLinkHtml;\n",
              "          element.appendChild(docLink);\n",
              "        }\n",
              "      </script>\n",
              "    </div>\n",
              "  </div>\n",
              "  "
            ]
          },
          "metadata": {},
          "execution_count": 4
        }
      ]
    },
    {
      "cell_type": "code",
      "source": [
        "df.dtypes"
      ],
      "metadata": {
        "colab": {
          "base_uri": "https://localhost:8080/"
        },
        "id": "zmy9XQQN1uFY",
        "outputId": "b1ba9bc2-5125-4a99-cc04-cfb15829d39f"
      },
      "execution_count": null,
      "outputs": [
        {
          "output_type": "execute_result",
          "data": {
            "text/plain": [
              "patient          object\n",
              " action          object\n",
              " org:resource    object\n",
              " DateTime        object\n",
              "dtype: object"
            ]
          },
          "metadata": {},
          "execution_count": 5
        }
      ]
    },
    {
      "cell_type": "code",
      "source": [
        "# Modificamos nombre de columnas (ojo que hay un espacio -> ' action')\n",
        "df.columns = ['patient', 'action', 'doctor', 'DateTime']"
      ],
      "metadata": {
        "id": "0hedJvsgutAG"
      },
      "execution_count": null,
      "outputs": []
    },
    {
      "cell_type": "code",
      "source": [
        "# Convertimos a dataset para pm4py\n",
        "event_log = pm4py.format_dataframe(df, case_id='patient',  activity_key='action',timestamp_key='DateTime')"
      ],
      "metadata": {
        "colab": {
          "base_uri": "https://localhost:8080/"
        },
        "id": "dkW45Rbgt7Dp",
        "outputId": "033fee06-74a4-4784-cdab-592a49450e5d"
      },
      "execution_count": null,
      "outputs": [
        {
          "output_type": "stream",
          "name": "stderr",
          "text": [
            "<ipython-input-7-71164c8a82c1>:2: DeprecatedWarning: format_dataframe is deprecated as of 2.3.0 and will be removed in 3.0.0. the format_dataframe function does not need application anymore.\n",
            "  event_log = pm4py.format_dataframe(df, case_id='patient',  activity_key='action',timestamp_key='DateTime')\n"
          ]
        }
      ]
    },
    {
      "cell_type": "code",
      "source": [
        "event_log.head()"
      ],
      "metadata": {
        "colab": {
          "base_uri": "https://localhost:8080/",
          "height": 206
        },
        "id": "HW7_m3bgxDoF",
        "outputId": "29b6fc18-94cb-46d0-fa30-c632ce50d59a"
      },
      "execution_count": null,
      "outputs": [
        {
          "output_type": "execute_result",
          "data": {
            "text/plain": [
              "     patient           action        doctor                  DateTime  \\\n",
              "0  patient 0    First consult      Dr. Anna 2017-01-02 11:40:11+00:00   \n",
              "1  patient 0       Blood test           Lab 2017-01-02 12:47:33+00:00   \n",
              "2  patient 0    Physical test   Nurse Jesse 2017-01-02 12:53:50+00:00   \n",
              "3  patient 0   Second consult      Dr. Anna 2017-01-02 16:21:06+00:00   \n",
              "4  patient 0          Surgery   Dr. Charlie 2017-01-05 13:23:09+00:00   \n",
              "\n",
              "  case:concept:name     concept:name            time:timestamp  @@index  \\\n",
              "0         patient 0    First consult 2017-01-02 11:40:11+00:00        0   \n",
              "1         patient 0       Blood test 2017-01-02 12:47:33+00:00        1   \n",
              "2         patient 0    Physical test 2017-01-02 12:53:50+00:00        2   \n",
              "3         patient 0   Second consult 2017-01-02 16:21:06+00:00        3   \n",
              "4         patient 0          Surgery 2017-01-05 13:23:09+00:00        4   \n",
              "\n",
              "   @@case_index  \n",
              "0             0  \n",
              "1             0  \n",
              "2             0  \n",
              "3             0  \n",
              "4             0  "
            ],
            "text/html": [
              "\n",
              "  <div id=\"df-4e91f09d-62c9-4bbe-ab6c-fa1fd159f358\">\n",
              "    <div class=\"colab-df-container\">\n",
              "      <div>\n",
              "<style scoped>\n",
              "    .dataframe tbody tr th:only-of-type {\n",
              "        vertical-align: middle;\n",
              "    }\n",
              "\n",
              "    .dataframe tbody tr th {\n",
              "        vertical-align: top;\n",
              "    }\n",
              "\n",
              "    .dataframe thead th {\n",
              "        text-align: right;\n",
              "    }\n",
              "</style>\n",
              "<table border=\"1\" class=\"dataframe\">\n",
              "  <thead>\n",
              "    <tr style=\"text-align: right;\">\n",
              "      <th></th>\n",
              "      <th>patient</th>\n",
              "      <th>action</th>\n",
              "      <th>doctor</th>\n",
              "      <th>DateTime</th>\n",
              "      <th>case:concept:name</th>\n",
              "      <th>concept:name</th>\n",
              "      <th>time:timestamp</th>\n",
              "      <th>@@index</th>\n",
              "      <th>@@case_index</th>\n",
              "    </tr>\n",
              "  </thead>\n",
              "  <tbody>\n",
              "    <tr>\n",
              "      <th>0</th>\n",
              "      <td>patient 0</td>\n",
              "      <td>First consult</td>\n",
              "      <td>Dr. Anna</td>\n",
              "      <td>2017-01-02 11:40:11+00:00</td>\n",
              "      <td>patient 0</td>\n",
              "      <td>First consult</td>\n",
              "      <td>2017-01-02 11:40:11+00:00</td>\n",
              "      <td>0</td>\n",
              "      <td>0</td>\n",
              "    </tr>\n",
              "    <tr>\n",
              "      <th>1</th>\n",
              "      <td>patient 0</td>\n",
              "      <td>Blood test</td>\n",
              "      <td>Lab</td>\n",
              "      <td>2017-01-02 12:47:33+00:00</td>\n",
              "      <td>patient 0</td>\n",
              "      <td>Blood test</td>\n",
              "      <td>2017-01-02 12:47:33+00:00</td>\n",
              "      <td>1</td>\n",
              "      <td>0</td>\n",
              "    </tr>\n",
              "    <tr>\n",
              "      <th>2</th>\n",
              "      <td>patient 0</td>\n",
              "      <td>Physical test</td>\n",
              "      <td>Nurse Jesse</td>\n",
              "      <td>2017-01-02 12:53:50+00:00</td>\n",
              "      <td>patient 0</td>\n",
              "      <td>Physical test</td>\n",
              "      <td>2017-01-02 12:53:50+00:00</td>\n",
              "      <td>2</td>\n",
              "      <td>0</td>\n",
              "    </tr>\n",
              "    <tr>\n",
              "      <th>3</th>\n",
              "      <td>patient 0</td>\n",
              "      <td>Second consult</td>\n",
              "      <td>Dr. Anna</td>\n",
              "      <td>2017-01-02 16:21:06+00:00</td>\n",
              "      <td>patient 0</td>\n",
              "      <td>Second consult</td>\n",
              "      <td>2017-01-02 16:21:06+00:00</td>\n",
              "      <td>3</td>\n",
              "      <td>0</td>\n",
              "    </tr>\n",
              "    <tr>\n",
              "      <th>4</th>\n",
              "      <td>patient 0</td>\n",
              "      <td>Surgery</td>\n",
              "      <td>Dr. Charlie</td>\n",
              "      <td>2017-01-05 13:23:09+00:00</td>\n",
              "      <td>patient 0</td>\n",
              "      <td>Surgery</td>\n",
              "      <td>2017-01-05 13:23:09+00:00</td>\n",
              "      <td>4</td>\n",
              "      <td>0</td>\n",
              "    </tr>\n",
              "  </tbody>\n",
              "</table>\n",
              "</div>\n",
              "      <button class=\"colab-df-convert\" onclick=\"convertToInteractive('df-4e91f09d-62c9-4bbe-ab6c-fa1fd159f358')\"\n",
              "              title=\"Convert this dataframe to an interactive table.\"\n",
              "              style=\"display:none;\">\n",
              "        \n",
              "  <svg xmlns=\"http://www.w3.org/2000/svg\" height=\"24px\"viewBox=\"0 0 24 24\"\n",
              "       width=\"24px\">\n",
              "    <path d=\"M0 0h24v24H0V0z\" fill=\"none\"/>\n",
              "    <path d=\"M18.56 5.44l.94 2.06.94-2.06 2.06-.94-2.06-.94-.94-2.06-.94 2.06-2.06.94zm-11 1L8.5 8.5l.94-2.06 2.06-.94-2.06-.94L8.5 2.5l-.94 2.06-2.06.94zm10 10l.94 2.06.94-2.06 2.06-.94-2.06-.94-.94-2.06-.94 2.06-2.06.94z\"/><path d=\"M17.41 7.96l-1.37-1.37c-.4-.4-.92-.59-1.43-.59-.52 0-1.04.2-1.43.59L10.3 9.45l-7.72 7.72c-.78.78-.78 2.05 0 2.83L4 21.41c.39.39.9.59 1.41.59.51 0 1.02-.2 1.41-.59l7.78-7.78 2.81-2.81c.8-.78.8-2.07 0-2.86zM5.41 20L4 18.59l7.72-7.72 1.47 1.35L5.41 20z\"/>\n",
              "  </svg>\n",
              "      </button>\n",
              "      \n",
              "  <style>\n",
              "    .colab-df-container {\n",
              "      display:flex;\n",
              "      flex-wrap:wrap;\n",
              "      gap: 12px;\n",
              "    }\n",
              "\n",
              "    .colab-df-convert {\n",
              "      background-color: #E8F0FE;\n",
              "      border: none;\n",
              "      border-radius: 50%;\n",
              "      cursor: pointer;\n",
              "      display: none;\n",
              "      fill: #1967D2;\n",
              "      height: 32px;\n",
              "      padding: 0 0 0 0;\n",
              "      width: 32px;\n",
              "    }\n",
              "\n",
              "    .colab-df-convert:hover {\n",
              "      background-color: #E2EBFA;\n",
              "      box-shadow: 0px 1px 2px rgba(60, 64, 67, 0.3), 0px 1px 3px 1px rgba(60, 64, 67, 0.15);\n",
              "      fill: #174EA6;\n",
              "    }\n",
              "\n",
              "    [theme=dark] .colab-df-convert {\n",
              "      background-color: #3B4455;\n",
              "      fill: #D2E3FC;\n",
              "    }\n",
              "\n",
              "    [theme=dark] .colab-df-convert:hover {\n",
              "      background-color: #434B5C;\n",
              "      box-shadow: 0px 1px 3px 1px rgba(0, 0, 0, 0.15);\n",
              "      filter: drop-shadow(0px 1px 2px rgba(0, 0, 0, 0.3));\n",
              "      fill: #FFFFFF;\n",
              "    }\n",
              "  </style>\n",
              "\n",
              "      <script>\n",
              "        const buttonEl =\n",
              "          document.querySelector('#df-4e91f09d-62c9-4bbe-ab6c-fa1fd159f358 button.colab-df-convert');\n",
              "        buttonEl.style.display =\n",
              "          google.colab.kernel.accessAllowed ? 'block' : 'none';\n",
              "\n",
              "        async function convertToInteractive(key) {\n",
              "          const element = document.querySelector('#df-4e91f09d-62c9-4bbe-ab6c-fa1fd159f358');\n",
              "          const dataTable =\n",
              "            await google.colab.kernel.invokeFunction('convertToInteractive',\n",
              "                                                     [key], {});\n",
              "          if (!dataTable) return;\n",
              "\n",
              "          const docLinkHtml = 'Like what you see? Visit the ' +\n",
              "            '<a target=\"_blank\" href=https://colab.research.google.com/notebooks/data_table.ipynb>data table notebook</a>'\n",
              "            + ' to learn more about interactive tables.';\n",
              "          element.innerHTML = '';\n",
              "          dataTable['output_type'] = 'display_data';\n",
              "          await google.colab.output.renderOutput(dataTable, element);\n",
              "          const docLink = document.createElement('div');\n",
              "          docLink.innerHTML = docLinkHtml;\n",
              "          element.appendChild(docLink);\n",
              "        }\n",
              "      </script>\n",
              "    </div>\n",
              "  </div>\n",
              "  "
            ]
          },
          "metadata": {},
          "execution_count": 8
        }
      ]
    },
    {
      "cell_type": "code",
      "source": [
        "# Estas son las acciones\n",
        "action = [x for x in event_log.action.unique()]\n",
        "action"
      ],
      "metadata": {
        "colab": {
          "base_uri": "https://localhost:8080/"
        },
        "id": "A13VJUsp2vVA",
        "outputId": "d4efe1c6-c3fa-4da6-d551-e55af598ab0a"
      },
      "execution_count": null,
      "outputs": [
        {
          "output_type": "execute_result",
          "data": {
            "text/plain": [
              "[' First consult',\n",
              " ' Blood test',\n",
              " ' Physical test',\n",
              " ' Second consult',\n",
              " ' Surgery',\n",
              " ' Final consult',\n",
              " ' X-ray scan',\n",
              " ' Medicine']"
            ]
          },
          "metadata": {},
          "execution_count": 9
        }
      ]
    },
    {
      "cell_type": "code",
      "source": [
        "# Número de registros (690 registros y 9 columnas)\n",
        "event_log.shape"
      ],
      "metadata": {
        "colab": {
          "base_uri": "https://localhost:8080/"
        },
        "id": "N5l-Pw_XzB9E",
        "outputId": "f707bff8-56b0-4979-f0be-aaaa2d9d8146"
      },
      "execution_count": null,
      "outputs": [
        {
          "output_type": "execute_result",
          "data": {
            "text/plain": [
              "(690, 9)"
            ]
          },
          "metadata": {},
          "execution_count": 10
        }
      ]
    },
    {
      "cell_type": "code",
      "source": [
        "# Número de eventos, 100  pacientes registrados.\n",
        "len(event_log.patient.unique())"
      ],
      "metadata": {
        "colab": {
          "base_uri": "https://localhost:8080/"
        },
        "id": "ZlN-BGMCzIpb",
        "outputId": "ea8a7d2d-0a4f-4ad3-b8ae-d107412394a7"
      },
      "execution_count": null,
      "outputs": [
        {
          "output_type": "execute_result",
          "data": {
            "text/plain": [
              "100"
            ]
          },
          "metadata": {},
          "execution_count": 11
        }
      ]
    },
    {
      "cell_type": "code",
      "source": [
        "#Número de repetición de cada variante\n",
        "pd.DataFrame.from_dict(pm4py.get_variants(event_log, activity_key='concept:name', case_id_key='case:concept:name', timestamp_key='time:timestamp'), orient = 'index')"
      ],
      "metadata": {
        "colab": {
          "base_uri": "https://localhost:8080/",
          "height": 520
        },
        "id": "9vI5EseLvM9e",
        "outputId": "8aa93258-6bd0-4fae-cb8e-aa81790dab59"
      },
      "execution_count": null,
      "outputs": [
        {
          "output_type": "execute_result",
          "data": {
            "text/plain": [
              "                                                     0\n",
              "( First consult,  Blood test,  Physical test,  ...   2\n",
              "( First consult,  Physical test,  Blood test,  ...  10\n",
              "( First consult,  Physical test,  Blood test,  ...   4\n",
              "( First consult,  Blood test,  X-ray scan,  Phy...  18\n",
              "( First consult,  X-ray scan,  Physical test,  ...  12\n",
              "( First consult,  Physical test,  Blood test,  ...   3\n",
              "( First consult,  Physical test,  X-ray scan,  ...  11\n",
              "( First consult,  X-ray scan,  Blood test,  Phy...   9\n",
              "( First consult,  Blood test,  Physical test,  ...  14\n",
              "( First consult,  X-ray scan,  Blood test,  Phy...   4\n",
              "( First consult,  Physical test,  Blood test,  ...   2\n",
              "( First consult,  Blood test,  Physical test,  ...   3\n",
              "( First consult,  Physical test,  X-ray scan,  ...   3\n",
              "( First consult,  X-ray scan,  Physical test,  ...   2\n",
              "( First consult,  Blood test,  Physical test,  ...   3"
            ],
            "text/html": [
              "\n",
              "  <div id=\"df-5c3c8966-62bf-419c-9a52-0eeae3f3c2d3\">\n",
              "    <div class=\"colab-df-container\">\n",
              "      <div>\n",
              "<style scoped>\n",
              "    .dataframe tbody tr th:only-of-type {\n",
              "        vertical-align: middle;\n",
              "    }\n",
              "\n",
              "    .dataframe tbody tr th {\n",
              "        vertical-align: top;\n",
              "    }\n",
              "\n",
              "    .dataframe thead th {\n",
              "        text-align: right;\n",
              "    }\n",
              "</style>\n",
              "<table border=\"1\" class=\"dataframe\">\n",
              "  <thead>\n",
              "    <tr style=\"text-align: right;\">\n",
              "      <th></th>\n",
              "      <th>0</th>\n",
              "    </tr>\n",
              "  </thead>\n",
              "  <tbody>\n",
              "    <tr>\n",
              "      <th>( First consult,  Blood test,  Physical test,  Second consult,  Surgery,  Final consult)</th>\n",
              "      <td>2</td>\n",
              "    </tr>\n",
              "    <tr>\n",
              "      <th>( First consult,  Physical test,  Blood test,  X-ray scan,  Second consult,  Medicine,  Final consult)</th>\n",
              "      <td>10</td>\n",
              "    </tr>\n",
              "    <tr>\n",
              "      <th>( First consult,  Physical test,  Blood test,  X-ray scan,  Second consult,  Surgery,  Final consult)</th>\n",
              "      <td>4</td>\n",
              "    </tr>\n",
              "    <tr>\n",
              "      <th>( First consult,  Blood test,  X-ray scan,  Physical test,  Second consult,  Medicine,  Final consult)</th>\n",
              "      <td>18</td>\n",
              "    </tr>\n",
              "    <tr>\n",
              "      <th>( First consult,  X-ray scan,  Physical test,  Blood test,  Second consult,  Medicine,  Final consult)</th>\n",
              "      <td>12</td>\n",
              "    </tr>\n",
              "    <tr>\n",
              "      <th>( First consult,  Physical test,  Blood test,  Second consult,  Medicine,  Final consult)</th>\n",
              "      <td>3</td>\n",
              "    </tr>\n",
              "    <tr>\n",
              "      <th>( First consult,  Physical test,  X-ray scan,  Blood test,  Second consult,  Medicine,  Final consult)</th>\n",
              "      <td>11</td>\n",
              "    </tr>\n",
              "    <tr>\n",
              "      <th>( First consult,  X-ray scan,  Blood test,  Physical test,  Second consult,  Medicine,  Final consult)</th>\n",
              "      <td>9</td>\n",
              "    </tr>\n",
              "    <tr>\n",
              "      <th>( First consult,  Blood test,  Physical test,  X-ray scan,  Second consult,  Medicine,  Final consult)</th>\n",
              "      <td>14</td>\n",
              "    </tr>\n",
              "    <tr>\n",
              "      <th>( First consult,  X-ray scan,  Blood test,  Physical test,  Second consult,  Surgery,  Final consult)</th>\n",
              "      <td>4</td>\n",
              "    </tr>\n",
              "    <tr>\n",
              "      <th>( First consult,  Physical test,  Blood test,  Second consult,  Surgery,  Final consult)</th>\n",
              "      <td>2</td>\n",
              "    </tr>\n",
              "    <tr>\n",
              "      <th>( First consult,  Blood test,  Physical test,  Second consult,  Medicine,  Final consult)</th>\n",
              "      <td>3</td>\n",
              "    </tr>\n",
              "    <tr>\n",
              "      <th>( First consult,  Physical test,  X-ray scan,  Blood test,  Second consult,  Surgery,  Final consult)</th>\n",
              "      <td>3</td>\n",
              "    </tr>\n",
              "    <tr>\n",
              "      <th>( First consult,  X-ray scan,  Physical test,  Blood test,  Second consult,  Surgery,  Final consult)</th>\n",
              "      <td>2</td>\n",
              "    </tr>\n",
              "    <tr>\n",
              "      <th>( First consult,  Blood test,  Physical test,  X-ray scan,  Second consult,  Surgery,  Final consult)</th>\n",
              "      <td>3</td>\n",
              "    </tr>\n",
              "  </tbody>\n",
              "</table>\n",
              "</div>\n",
              "      <button class=\"colab-df-convert\" onclick=\"convertToInteractive('df-5c3c8966-62bf-419c-9a52-0eeae3f3c2d3')\"\n",
              "              title=\"Convert this dataframe to an interactive table.\"\n",
              "              style=\"display:none;\">\n",
              "        \n",
              "  <svg xmlns=\"http://www.w3.org/2000/svg\" height=\"24px\"viewBox=\"0 0 24 24\"\n",
              "       width=\"24px\">\n",
              "    <path d=\"M0 0h24v24H0V0z\" fill=\"none\"/>\n",
              "    <path d=\"M18.56 5.44l.94 2.06.94-2.06 2.06-.94-2.06-.94-.94-2.06-.94 2.06-2.06.94zm-11 1L8.5 8.5l.94-2.06 2.06-.94-2.06-.94L8.5 2.5l-.94 2.06-2.06.94zm10 10l.94 2.06.94-2.06 2.06-.94-2.06-.94-.94-2.06-.94 2.06-2.06.94z\"/><path d=\"M17.41 7.96l-1.37-1.37c-.4-.4-.92-.59-1.43-.59-.52 0-1.04.2-1.43.59L10.3 9.45l-7.72 7.72c-.78.78-.78 2.05 0 2.83L4 21.41c.39.39.9.59 1.41.59.51 0 1.02-.2 1.41-.59l7.78-7.78 2.81-2.81c.8-.78.8-2.07 0-2.86zM5.41 20L4 18.59l7.72-7.72 1.47 1.35L5.41 20z\"/>\n",
              "  </svg>\n",
              "      </button>\n",
              "      \n",
              "  <style>\n",
              "    .colab-df-container {\n",
              "      display:flex;\n",
              "      flex-wrap:wrap;\n",
              "      gap: 12px;\n",
              "    }\n",
              "\n",
              "    .colab-df-convert {\n",
              "      background-color: #E8F0FE;\n",
              "      border: none;\n",
              "      border-radius: 50%;\n",
              "      cursor: pointer;\n",
              "      display: none;\n",
              "      fill: #1967D2;\n",
              "      height: 32px;\n",
              "      padding: 0 0 0 0;\n",
              "      width: 32px;\n",
              "    }\n",
              "\n",
              "    .colab-df-convert:hover {\n",
              "      background-color: #E2EBFA;\n",
              "      box-shadow: 0px 1px 2px rgba(60, 64, 67, 0.3), 0px 1px 3px 1px rgba(60, 64, 67, 0.15);\n",
              "      fill: #174EA6;\n",
              "    }\n",
              "\n",
              "    [theme=dark] .colab-df-convert {\n",
              "      background-color: #3B4455;\n",
              "      fill: #D2E3FC;\n",
              "    }\n",
              "\n",
              "    [theme=dark] .colab-df-convert:hover {\n",
              "      background-color: #434B5C;\n",
              "      box-shadow: 0px 1px 3px 1px rgba(0, 0, 0, 0.15);\n",
              "      filter: drop-shadow(0px 1px 2px rgba(0, 0, 0, 0.3));\n",
              "      fill: #FFFFFF;\n",
              "    }\n",
              "  </style>\n",
              "\n",
              "      <script>\n",
              "        const buttonEl =\n",
              "          document.querySelector('#df-5c3c8966-62bf-419c-9a52-0eeae3f3c2d3 button.colab-df-convert');\n",
              "        buttonEl.style.display =\n",
              "          google.colab.kernel.accessAllowed ? 'block' : 'none';\n",
              "\n",
              "        async function convertToInteractive(key) {\n",
              "          const element = document.querySelector('#df-5c3c8966-62bf-419c-9a52-0eeae3f3c2d3');\n",
              "          const dataTable =\n",
              "            await google.colab.kernel.invokeFunction('convertToInteractive',\n",
              "                                                     [key], {});\n",
              "          if (!dataTable) return;\n",
              "\n",
              "          const docLinkHtml = 'Like what you see? Visit the ' +\n",
              "            '<a target=\"_blank\" href=https://colab.research.google.com/notebooks/data_table.ipynb>data table notebook</a>'\n",
              "            + ' to learn more about interactive tables.';\n",
              "          element.innerHTML = '';\n",
              "          dataTable['output_type'] = 'display_data';\n",
              "          await google.colab.output.renderOutput(dataTable, element);\n",
              "          const docLink = document.createElement('div');\n",
              "          docLink.innerHTML = docLinkHtml;\n",
              "          element.appendChild(docLink);\n",
              "        }\n",
              "      </script>\n",
              "    </div>\n",
              "  </div>\n",
              "  "
            ]
          },
          "metadata": {},
          "execution_count": 12
        }
      ]
    },
    {
      "cell_type": "code",
      "source": [
        "# Cuántas veces se encuentra la actividad 'a' en las secuencias?\n",
        "# Ejemplo: First consult: {0:100} se encuentra los 100 eventos como orden 0 (el primero)\n",
        "# Blood test en 40 ocasiones es la 2a actividad, en 32 la 3a y en 28 la 4a.\n",
        "for a in action:\n",
        "  num = pm4py.get_activity_position_summary(event_log, a ,activity_key='concept:name', case_id_key='case:concept:name', timestamp_key='time:timestamp')\n",
        "  print(a, num)"
      ],
      "metadata": {
        "colab": {
          "base_uri": "https://localhost:8080/"
        },
        "id": "iVW0du0lw4Y7",
        "outputId": "ac6ba9ee-d758-4006-8fe9-9a81b7ba0c81"
      },
      "execution_count": null,
      "outputs": [
        {
          "output_type": "stream",
          "name": "stdout",
          "text": [
            " First consult {0: 100}\n",
            " Blood test {1: 40, 2: 32, 3: 28}\n",
            " Physical test {2: 36, 1: 33, 3: 31}\n",
            " Second consult {4: 90, 3: 10}\n",
            " Surgery {5: 16, 4: 4}\n",
            " Final consult {6: 90, 5: 10}\n",
            " X-ray scan {2: 32, 3: 31, 1: 27}\n",
            " Medicine {5: 74, 4: 6}\n"
          ]
        }
      ]
    },
    {
      "cell_type": "code",
      "source": [
        "patients = [x for x in event_log.patient.unique()]\n",
        "patients[:3]"
      ],
      "metadata": {
        "colab": {
          "base_uri": "https://localhost:8080/"
        },
        "id": "3oLAy2OQ4oMr",
        "outputId": "9efea78d-71e8-4da2-900c-c6ac5b1fae1e"
      },
      "execution_count": null,
      "outputs": [
        {
          "output_type": "execute_result",
          "data": {
            "text/plain": [
              "['patient 0', 'patient 1', 'patient 10']"
            ]
          },
          "metadata": {},
          "execution_count": 14
        }
      ]
    },
    {
      "cell_type": "code",
      "source": [
        "# Duración por caso (paciente)\n",
        "for p in patients:\n",
        "  d = pm4py.get_case_duration(event_log, p)\n",
        "  print(p, d)"
      ],
      "metadata": {
        "colab": {
          "base_uri": "https://localhost:8080/"
        },
        "id": "ebcEsIlO4mj-",
        "outputId": "0e2e89fe-df73-42e8-de59-6ed8a0b27819"
      },
      "execution_count": null,
      "outputs": [
        {
          "output_type": "stream",
          "name": "stderr",
          "text": [
            "/usr/local/lib/python3.8/dist-packages/pm4py/statistics/traces/generic/pandas/case_statistics.py:185: FutureWarning: casting datetime64[ns, UTC] values to int64 with .astype(...) is deprecated and will raise in a future version. Use .view(...) instead.\n",
            "  stacked_df[timestamp_key + \"_2\"] = stacked_df[timestamp_key + \"_2\"].astype('int64') // 10 ** 9\n",
            "/usr/local/lib/python3.8/dist-packages/pm4py/statistics/traces/generic/pandas/case_statistics.py:186: FutureWarning: casting datetime64[ns, UTC] values to int64 with .astype(...) is deprecated and will raise in a future version. Use .view(...) instead.\n",
            "  stacked_df[start_timestamp_key] = stacked_df[start_timestamp_key].astype('int64') // 10 ** 9\n"
          ]
        },
        {
          "output_type": "stream",
          "name": "stdout",
          "text": [
            "patient 0 593357.0\n",
            "patient 1 359926.0\n",
            "patient 10 1112762.0\n",
            "patient 11 1197473.0\n",
            "patient 12 603319.0\n",
            "patient 13 693634.0\n",
            "patient 14 682715.0\n",
            "patient 15 683701.0\n",
            "patient 16 1008518.0\n",
            "patient 17 1125842.0\n",
            "patient 18 679722.0\n",
            "patient 19 856484.0\n",
            "patient 2 1129919.0\n",
            "patient 20 698084.0\n",
            "patient 21 1020540.0\n",
            "patient 22 874830.0\n",
            "patient 23 1381280.0\n",
            "patient 24 531349.0\n",
            "patient 25 419066.0\n",
            "patient 26 628224.0\n",
            "patient 27 621457.0\n",
            "patient 28 1026792.0\n",
            "patient 29 758873.0\n",
            "patient 3 1026368.0\n",
            "patient 30 608684.0\n",
            "patient 31 603232.0\n",
            "patient 32 575205.0\n",
            "patient 33 838455.0\n",
            "patient 34 873454.0\n",
            "patient 35 250020.0\n",
            "patient 36 780415.0\n",
            "patient 37 1298409.0\n",
            "patient 38 953274.0\n",
            "patient 39 256478.0\n",
            "patient 4 1196574.0\n",
            "patient 40 272357.0\n",
            "patient 41 611127.0\n",
            "patient 42 622221.0\n",
            "patient 43 606533.0\n",
            "patient 44 775073.0\n",
            "patient 45 1121202.0\n",
            "patient 46 1040567.0\n",
            "patient 47 1478584.0\n",
            "patient 48 424825.0\n",
            "patient 49 797009.0\n",
            "patient 5 788093.0\n",
            "patient 50 1110755.0\n",
            "patient 51 1024701.0\n",
            "patient 52 607342.0\n",
            "patient 53 794560.0\n",
            "patient 54 284831.0\n",
            "patient 55 458801.0\n",
            "patient 56 949810.0\n",
            "patient 57 369153.0\n",
            "patient 58 1281030.0\n",
            "patient 59 688596.0\n",
            "patient 6 1277053.0\n",
            "patient 60 536839.0\n",
            "patient 61 527172.0\n",
            "patient 62 1123298.0\n",
            "patient 63 952806.0\n",
            "patient 64 1447850.0\n",
            "patient 65 574218.0\n",
            "patient 66 800812.0\n",
            "patient 67 958235.0\n",
            "patient 68 595345.0\n",
            "patient 69 850875.0\n",
            "patient 7 677531.0\n",
            "patient 70 690760.0\n",
            "patient 71 861503.0\n",
            "patient 72 1187272.0\n",
            "patient 73 946219.0\n",
            "patient 74 763378.0\n",
            "patient 75 601951.0\n",
            "patient 76 92044.0\n",
            "patient 77 780410.0\n",
            "patient 78 1279091.0\n",
            "patient 79 1026471.0\n",
            "patient 8 848601.0\n",
            "patient 80 857324.0\n",
            "patient 81 529747.0\n",
            "patient 82 611555.0\n",
            "patient 83 1460898.0\n",
            "patient 84 1047221.0\n",
            "patient 85 1022248.0\n",
            "patient 86 857050.0\n",
            "patient 87 1314887.0\n",
            "patient 88 506864.0\n",
            "patient 89 874761.0\n",
            "patient 9 928971.0\n",
            "patient 90 263060.0\n",
            "patient 91 871749.0\n",
            "patient 92 1121449.0\n",
            "patient 93 1012042.0\n",
            "patient 94 1455645.0\n",
            "patient 95 954266.0\n",
            "patient 96 799596.0\n",
            "patient 97 453235.0\n",
            "patient 98 1221565.0\n",
            "patient 99 1126172.0\n"
          ]
        }
      ]
    },
    {
      "cell_type": "code",
      "source": [
        "map = pm4py.discover_heuristics_net(event_log)\n",
        "pm4py.view_heuristics_net(map)"
      ],
      "metadata": {
        "colab": {
          "base_uri": "https://localhost:8080/",
          "height": 772
        },
        "id": "z8bbNVPg0xN5",
        "outputId": "58e884be-e6a9-4438-c915-f527177b8b9d"
      },
      "execution_count": null,
      "outputs": [
        {
          "output_type": "display_data",
          "data": {
            "image/png": "[encoded data removed]",
            "text/plain": [
              "<IPython.core.display.Image object>"
            ]
          },
          "metadata": {}
        }
      ]
    },
    {
      "cell_type": "code",
      "source": [
        "tree = pm4py.discover_process_tree_inductive(event_log)\n",
        "pm4py.view_process_tree(tree)\n"
      ],
      "metadata": {
        "colab": {
          "base_uri": "https://localhost:8080/",
          "height": 364
        },
        "id": "3pdL8xL87Xvh",
        "outputId": "b131e603-b66f-40dc-e547-6c39b83f47b3"
      },
      "execution_count": null,
      "outputs": [
        {
          "output_type": "display_data",
          "data": {
            "image/png": "[encoded data removed]",
            "text/plain": [
              "<IPython.core.display.Image object>"
            ]
          },
          "metadata": {}
        }
      ]
    },
    {
      "cell_type": "code",
      "source": [
        "net, im, fm = pm4py.discover_petri_net_heuristics(event_log, dependency_threshold=0.99)\n",
        "net, initial_marking, final_marking = pm4py.convert_to_petri_net(tree)\n",
        "pm4py.view_petri_net(net, im, fm)"
      ],
      "metadata": {
        "colab": {
          "base_uri": "https://localhost:8080/",
          "height": 333
        },
        "id": "M8mNc4aA8FMm",
        "outputId": "033bb27e-a0a8-4813-ad80-d4ecd6b576db"
      },
      "execution_count": null,
      "outputs": [
        {
          "output_type": "display_data",
          "data": {
            "image/png": "[encoded data removed]",
            "text/plain": [
              "<IPython.core.display.Image object>"
            ]
          },
          "metadata": {}
        }
      ]
    },
    {
      "cell_type": "code",
      "source": [
        "from pm4py.visualization.petri_net import visualizer as pn_visualizer\n",
        "parameters = {pn_visualizer.Variants.FREQUENCY.value.Parameters.FORMAT: \"png\"}\n",
        "gviz = pn_visualizer.apply(net, initial_marking, final_marking, parameters=parameters, variant=pn_visualizer.Variants.FREQUENCY, log=event_log)\n",
        "#pn_visualizer.save(gviz, \"inductive_frequency.png\")\n",
        "gviz"
      ],
      "metadata": {
        "colab": {
          "base_uri": "https://localhost:8080/",
          "height": 390,
          "referenced_widgets": [
            "3a1c321928004df69964e63d03851776",
            "91b48aa042be44f392762f57292a6657",
            "0dbf3ec3dd31489fbbba9226f48d3a8d",
            "f8b184a75ecc4d7f82d332b672da3524",
            "a7bda55a3200416881942319d1f13898",
            "fedf703dc7c74e5dbeeedead5ed59457",
            "7a7559037e434e9ba1ce00cf257c7dc2",
            "ec3f72a1bf47450daafc28ec61910c1f",
            "22b96bf6b0c24aa68a8b8f17e443c283",
            "b713224f594b46a7818d9853f2ddaa01",
            "3fd491c849524fbf922d36f5660544ba"
          ]
        },
        "id": "FKv6IU9z5u-d",
        "outputId": "2438b755-09c6-44bf-d20b-c5b6614a912e"
      },
      "execution_count": null,
      "outputs": [
        {
          "output_type": "display_data",
          "data": {
            "text/plain": [
              "replaying log with TBR, completed variants ::   0%|          | 0/15 [00:00<?, ?it/s]"
            ],
            "application/vnd.jupyter.widget-view+json": {
              "version_major": 2,
              "version_minor": 0,
              "model_id": "3a1c321928004df69964e63d03851776"
            }
          },
          "metadata": {}
        },
        {
          "output_type": "execute_result",
          "data": {
            "text/plain": [
              "<graphviz.dot.Digraph at 0x7f3b1a3272b0>"
            ],
            "image/svg+xml": "<?xml version=\"1.0\" encoding=\"UTF-8\" standalone=\"no\"?>\n<!DOCTYPE svg PUBLIC \"-//W3C//DTD SVG 1.1//EN\"\n \"http://www.w3.org/Graphics/SVG/1.1/DTD/svg11.dtd\">\n<!-- Generated by graphviz version 2.40.1 (20161225.0304)\n -->\n<!-- Title: imdf_net_1670568784.8309348 Pages: 1 -->\n<svg width=\"1406pt\" height=\"237pt\"\n viewBox=\"0.00 0.00 1406.00 237.00\" xmlns=\"http://www.w3.org/2000/svg\" xmlns:xlink=\"http://www.w3.org/1999/xlink\">\n<g id=\"graph0\" class=\"graph\" transform=\"scale(1 1) rotate(0) translate(4 233)\">\n<title>imdf_net_1670568784.8309348</title>\n<polygon fill=\"#ffffff\" stroke=\"transparent\" points=\"-4,4 -4,-233 1402,-233 1402,4 -4,4\"/>\n<!-- 139891829656736 -->\n<g id=\"node1\" class=\"node\">\n<title>139891829656736</title>\n<polygon fill=\"#9b9bff\" stroke=\"#000000\" points=\"215,-148 109,-148 109,-112 215,-112 215,-148\"/>\n<text text-anchor=\"middle\" x=\"162\" y=\"-126.9\" font-family=\"Times,serif\" font-size=\"12.00\" fill=\"#000000\"> First consult (100)</text>\n</g>\n<!-- 139891829657120 -->\n<g id=\"node14\" class=\"node\">\n<title>139891829657120</title>\n<ellipse fill=\"none\" stroke=\"#000000\" cx=\"297\" cy=\"-202\" rx=\"27\" ry=\"27\"/>\n</g>\n<!-- 139891829656736&#45;&gt;139891829657120 -->\n<g id=\"edge5\" class=\"edge\">\n<title>139891829656736&#45;&gt;139891829657120</title>\n<path fill=\"none\" stroke=\"#000000\" stroke-width=\"2.6\" d=\"M196.0662,-148.1686C216.9291,-159.2955 243.4928,-173.4628 264.1319,-184.4704\"/>\n<polygon fill=\"#000000\" stroke=\"#000000\" stroke-width=\"2.6\" points=\"262.6855,-187.6656 273.1561,-189.2832 265.9796,-181.4891 262.6855,-187.6656\"/>\n<text text-anchor=\"middle\" x=\"242.5\" y=\"-179.4\" font-family=\"Times,serif\" font-size=\"12.00\" fill=\"#000000\">100</text>\n</g>\n<!-- 139891829573136 -->\n<g id=\"node16\" class=\"node\">\n<title>139891829573136</title>\n<ellipse fill=\"none\" stroke=\"#000000\" cx=\"297\" cy=\"-130\" rx=\"27\" ry=\"27\"/>\n</g>\n<!-- 139891829656736&#45;&gt;139891829573136 -->\n<g id=\"edge6\" class=\"edge\">\n<title>139891829656736&#45;&gt;139891829573136</title>\n<path fill=\"none\" stroke=\"#000000\" stroke-width=\"2.6\" d=\"M215.3556,-130C230.2731,-130 246.1556,-130 259.9088,-130\"/>\n<polygon fill=\"#000000\" stroke=\"#000000\" stroke-width=\"2.6\" points=\"259.9597,-133.5001 269.9596,-130 259.9596,-126.5001 259.9597,-133.5001\"/>\n<text text-anchor=\"middle\" x=\"242.5\" y=\"-133.4\" font-family=\"Times,serif\" font-size=\"12.00\" fill=\"#000000\">100</text>\n</g>\n<!-- 139891829575056 -->\n<g id=\"node18\" class=\"node\">\n<title>139891829575056</title>\n<ellipse fill=\"none\" stroke=\"#000000\" cx=\"297\" cy=\"-58\" rx=\"27\" ry=\"27\"/>\n</g>\n<!-- 139891829656736&#45;&gt;139891829575056 -->\n<g id=\"edge7\" class=\"edge\">\n<title>139891829656736&#45;&gt;139891829575056</title>\n<path fill=\"none\" stroke=\"#000000\" stroke-width=\"2.6\" d=\"M196.0662,-111.8314C216.9291,-100.7045 243.4928,-86.5372 264.1319,-75.5296\"/>\n<polygon fill=\"#000000\" stroke=\"#000000\" stroke-width=\"2.6\" points=\"265.9796,-78.5109 273.1561,-70.7168 262.6855,-72.3344 265.9796,-78.5109\"/>\n<text text-anchor=\"middle\" x=\"242.5\" y=\"-95.4\" font-family=\"Times,serif\" font-size=\"12.00\" fill=\"#000000\">100</text>\n</g>\n<!-- 139891829574624 -->\n<g id=\"node2\" class=\"node\">\n<title>139891829574624</title>\n<polygon fill=\"#000000\" stroke=\"#000000\" points=\"459.5,-90 405.5,-90 405.5,-54 459.5,-54 459.5,-90\"/>\n</g>\n<!-- 139891829574864 -->\n<g id=\"node11\" class=\"node\">\n<title>139891829574864</title>\n<ellipse fill=\"none\" stroke=\"#000000\" cx=\"568\" cy=\"-58\" rx=\"27\" ry=\"27\"/>\n</g>\n<!-- 139891829574624&#45;&gt;139891829574864 -->\n<g id=\"edge21\" class=\"edge\">\n<title>139891829574624&#45;&gt;139891829574864</title>\n<path fill=\"none\" stroke=\"#000000\" d=\"M459.5948,-69.2005C479.9965,-67.0926 508.2033,-64.1783 530.7303,-61.8507\"/>\n<polygon fill=\"#000000\" stroke=\"#000000\" points=\"531.3649,-65.3039 540.9522,-60.7946 530.6454,-58.341 531.3649,-65.3039\"/>\n<text text-anchor=\"middle\" x=\"513.5\" y=\"-68.4\" font-family=\"Times,serif\" font-size=\"12.00\" fill=\"#000000\">10</text>\n</g>\n<!-- 139891829574240 -->\n<g id=\"node3\" class=\"node\">\n<title>139891829574240</title>\n<polygon fill=\"#a6a6ff\" stroke=\"#000000\" points=\"479.5,-36 385.5,-36 385.5,0 479.5,0 479.5,-36\"/>\n<text text-anchor=\"middle\" x=\"432.5\" y=\"-14.9\" font-family=\"Times,serif\" font-size=\"12.00\" fill=\"#000000\"> X&#45;ray scan (90)</text>\n</g>\n<!-- 139891829574240&#45;&gt;139891829574864 -->\n<g id=\"edge2\" class=\"edge\">\n<title>139891829574240&#45;&gt;139891829574864</title>\n<path fill=\"none\" stroke=\"#000000\" stroke-width=\"2.4222\" d=\"M479.511,-31.8778C496.855,-36.9978 516.2058,-42.7102 532.3782,-47.4843\"/>\n<polygon fill=\"#000000\" stroke=\"#000000\" stroke-width=\"2.4222\" points=\"531.409,-50.8475 541.9908,-50.322 533.3909,-44.1339 531.409,-50.8475\"/>\n<text text-anchor=\"middle\" x=\"513.5\" y=\"-47.4\" font-family=\"Times,serif\" font-size=\"12.00\" fill=\"#000000\">90</text>\n</g>\n<!-- 139891829573952 -->\n<g id=\"node4\" class=\"node\">\n<title>139891829573952</title>\n<polygon fill=\"#9b9bff\" stroke=\"#000000\" points=\"770,-148 650,-148 650,-112 770,-112 770,-148\"/>\n<text text-anchor=\"middle\" x=\"710\" y=\"-126.9\" font-family=\"Times,serif\" font-size=\"12.00\" fill=\"#000000\"> Second consult (100)</text>\n</g>\n<!-- 139891829657360 -->\n<g id=\"node12\" class=\"node\">\n<title>139891829657360</title>\n<ellipse fill=\"none\" stroke=\"#000000\" cx=\"852\" cy=\"-130\" rx=\"27\" ry=\"27\"/>\n</g>\n<!-- 139891829573952&#45;&gt;139891829657360 -->\n<g id=\"edge1\" class=\"edge\">\n<title>139891829573952&#45;&gt;139891829657360</title>\n<path fill=\"none\" stroke=\"#000000\" stroke-width=\"2.6\" d=\"M770.2208,-130C785.2514,-130 800.9419,-130 814.5126,-130\"/>\n<polygon fill=\"#000000\" stroke=\"#000000\" stroke-width=\"2.6\" points=\"814.8886,-133.5001 824.8886,-130 814.8885,-126.5001 814.8886,-133.5001\"/>\n<text text-anchor=\"middle\" x=\"797.5\" y=\"-133.4\" font-family=\"Times,serif\" font-size=\"12.00\" fill=\"#000000\">100</text>\n</g>\n<!-- 139891829572896 -->\n<g id=\"node5\" class=\"node\">\n<title>139891829572896</title>\n<polygon fill=\"#9b9bff\" stroke=\"#000000\" points=\"1281,-148 1172,-148 1172,-112 1281,-112 1281,-148\"/>\n<text text-anchor=\"middle\" x=\"1226.5\" y=\"-126.9\" font-family=\"Times,serif\" font-size=\"12.00\" fill=\"#000000\"> Final consult (100)</text>\n</g>\n<!-- 139891829656880 -->\n<g id=\"node19\" class=\"node\">\n<title>139891829656880</title>\n<ellipse fill=\"none\" stroke=\"#000000\" cx=\"1367\" cy=\"-130\" rx=\"27\" ry=\"27\"/>\n<ellipse fill=\"none\" stroke=\"#000000\" cx=\"1367\" cy=\"-130\" rx=\"31\" ry=\"31\"/>\n<text text-anchor=\"start\" x=\"1357\" y=\"-121.9\" font-family=\"Times,serif\" font-size=\"32.00\" fill=\"#000000\">■</text>\n</g>\n<!-- 139891829572896&#45;&gt;139891829656880 -->\n<g id=\"edge9\" class=\"edge\">\n<title>139891829572896&#45;&gt;139891829656880</title>\n<path fill=\"none\" stroke=\"#000000\" stroke-width=\"2.6\" d=\"M1281.2233,-130C1295.9593,-130 1311.6547,-130 1325.5368,-130\"/>\n<polygon fill=\"#000000\" stroke=\"#000000\" stroke-width=\"2.6\" points=\"1325.7531,-133.5001 1335.7531,-130 1325.753,-126.5001 1325.7531,-133.5001\"/>\n<text text-anchor=\"middle\" x=\"1308.5\" y=\"-133.4\" font-family=\"Times,serif\" font-size=\"12.00\" fill=\"#000000\">100</text>\n</g>\n<!-- 139891829575248 -->\n<g id=\"node6\" class=\"node\">\n<title>139891829575248</title>\n<polygon fill=\"#9b9bff\" stroke=\"#000000\" points=\"486,-148 379,-148 379,-112 486,-112 486,-148\"/>\n<text text-anchor=\"middle\" x=\"432.5\" y=\"-126.9\" font-family=\"Times,serif\" font-size=\"12.00\" fill=\"#000000\"> Physical test (100)</text>\n</g>\n<!-- 139891829575536 -->\n<g id=\"node17\" class=\"node\">\n<title>139891829575536</title>\n<ellipse fill=\"none\" stroke=\"#000000\" cx=\"568\" cy=\"-130\" rx=\"27\" ry=\"27\"/>\n</g>\n<!-- 139891829575248&#45;&gt;139891829575536 -->\n<g id=\"edge10\" class=\"edge\">\n<title>139891829575248&#45;&gt;139891829575536</title>\n<path fill=\"none\" stroke=\"#000000\" stroke-width=\"2.6\" d=\"M486.0532,-130C501.0259,-130 516.9673,-130 530.7714,-130\"/>\n<polygon fill=\"#000000\" stroke=\"#000000\" stroke-width=\"2.6\" points=\"530.8595,-133.5001 540.8595,-130 530.8595,-126.5001 530.8595,-133.5001\"/>\n<text text-anchor=\"middle\" x=\"513.5\" y=\"-133.4\" font-family=\"Times,serif\" font-size=\"12.00\" fill=\"#000000\">100</text>\n</g>\n<!-- 139891829656496 -->\n<g id=\"node7\" class=\"node\">\n<title>139891829656496</title>\n<polygon fill=\"#9b9bff\" stroke=\"#000000\" points=\"480.5,-220 384.5,-220 384.5,-184 480.5,-184 480.5,-220\"/>\n<text text-anchor=\"middle\" x=\"432.5\" y=\"-198.9\" font-family=\"Times,serif\" font-size=\"12.00\" fill=\"#000000\"> Blood test (100)</text>\n</g>\n<!-- 139891829655920 -->\n<g id=\"node15\" class=\"node\">\n<title>139891829655920</title>\n<ellipse fill=\"none\" stroke=\"#000000\" cx=\"568\" cy=\"-202\" rx=\"27\" ry=\"27\"/>\n</g>\n<!-- 139891829656496&#45;&gt;139891829655920 -->\n<g id=\"edge4\" class=\"edge\">\n<title>139891829656496&#45;&gt;139891829655920</title>\n<path fill=\"none\" stroke=\"#000000\" stroke-width=\"2.6\" d=\"M480.6538,-202C497.0939,-202 515.2183,-202 530.6758,-202\"/>\n<polygon fill=\"#000000\" stroke=\"#000000\" stroke-width=\"2.6\" points=\"530.8976,-205.5001 540.8976,-202 530.8976,-198.5001 530.8976,-205.5001\"/>\n<text text-anchor=\"middle\" x=\"513.5\" y=\"-205.4\" font-family=\"Times,serif\" font-size=\"12.00\" fill=\"#000000\">100</text>\n</g>\n<!-- 139891829573520 -->\n<g id=\"node8\" class=\"node\">\n<title>139891829573520</title>\n<polygon fill=\"#b1b1ff\" stroke=\"#000000\" points=\"1014,-175 928,-175 928,-139 1014,-139 1014,-175\"/>\n<text text-anchor=\"middle\" x=\"971\" y=\"-153.9\" font-family=\"Times,serif\" font-size=\"12.00\" fill=\"#000000\"> Medicine (80)</text>\n</g>\n<!-- 139891829573760 -->\n<g id=\"node13\" class=\"node\">\n<title>139891829573760</title>\n<ellipse fill=\"none\" stroke=\"#000000\" cx=\"1090\" cy=\"-130\" rx=\"27\" ry=\"27\"/>\n</g>\n<!-- 139891829573520&#45;&gt;139891829573760 -->\n<g id=\"edge3\" class=\"edge\">\n<title>139891829573520&#45;&gt;139891829573760</title>\n<path fill=\"none\" stroke=\"#000000\" stroke-width=\"2.2444\" d=\"M1014.2984,-147.176C1027.174,-144.2546 1041.1454,-141.0846 1053.5395,-138.2726\"/>\n<polygon fill=\"#000000\" stroke=\"#000000\" stroke-width=\"2.2444\" points=\"1054.5431,-141.6339 1063.5208,-136.0079 1052.9942,-134.8074 1054.5431,-141.6339\"/>\n<text text-anchor=\"middle\" x=\"1038.5\" y=\"-145.4\" font-family=\"Times,serif\" font-size=\"12.00\" fill=\"#000000\">80</text>\n</g>\n<!-- 139891829573232 -->\n<g id=\"node9\" class=\"node\">\n<title>139891829573232</title>\n<polygon fill=\"#f3f3ff\" stroke=\"#000000\" points=\"1011,-121 931,-121 931,-85 1011,-85 1011,-121\"/>\n<text text-anchor=\"middle\" x=\"971\" y=\"-99.9\" font-family=\"Times,serif\" font-size=\"12.00\" fill=\"#000000\"> Surgery (20)</text>\n</g>\n<!-- 139891829573232&#45;&gt;139891829573760 -->\n<g id=\"edge8\" class=\"edge\">\n<title>139891829573232&#45;&gt;139891829573760</title>\n<path fill=\"none\" stroke=\"#000000\" stroke-width=\"1.1778\" d=\"M1011.288,-112.141C1025.0432,-115.2619 1040.3329,-118.731 1053.7507,-121.7754\"/>\n<polygon fill=\"#000000\" stroke=\"#000000\" stroke-width=\"1.1778\" points=\"1053.0634,-125.2083 1063.59,-124.0078 1054.6124,-118.3818 1053.0634,-125.2083\"/>\n<text text-anchor=\"middle\" x=\"1038.5\" y=\"-123.4\" font-family=\"Times,serif\" font-size=\"12.00\" fill=\"#000000\">20</text>\n</g>\n<!-- 139891829657312 -->\n<g id=\"node10\" class=\"node\">\n<title>139891829657312</title>\n<ellipse fill=\"none\" stroke=\"#000000\" cx=\"27\" cy=\"-130\" rx=\"27\" ry=\"27\"/>\n<text text-anchor=\"start\" x=\"16.5\" y=\"-121.3\" font-family=\"Times,serif\" font-size=\"34.00\" fill=\"#000000\">●</text>\n</g>\n<!-- 139891829657312&#45;&gt;139891829656736 -->\n<g id=\"edge22\" class=\"edge\">\n<title>139891829657312&#45;&gt;139891829656736</title>\n<path fill=\"none\" stroke=\"#000000\" stroke-width=\"2.6\" d=\"M54.3193,-130C67.1492,-130 83.0241,-130 98.6062,-130\"/>\n<polygon fill=\"#000000\" stroke=\"#000000\" stroke-width=\"2.6\" points=\"98.7686,-133.5001 108.7686,-130 98.7685,-126.5001 98.7686,-133.5001\"/>\n<text text-anchor=\"middle\" x=\"81.5\" y=\"-133.4\" font-family=\"Times,serif\" font-size=\"12.00\" fill=\"#000000\">100</text>\n</g>\n<!-- 139891829574864&#45;&gt;139891829573952 -->\n<g id=\"edge11\" class=\"edge\">\n<title>139891829574864&#45;&gt;139891829573952</title>\n<path fill=\"none\" stroke=\"#000000\" stroke-width=\"2.6\" d=\"M592.0884,-70.2138C612.085,-80.353 641.0678,-95.0485 665.2943,-107.3323\"/>\n<polygon fill=\"#000000\" stroke=\"#000000\" stroke-width=\"2.6\" points=\"663.8159,-110.5069 674.3178,-111.9076 666.9816,-104.2636 663.8159,-110.5069\"/>\n<text text-anchor=\"middle\" x=\"622.5\" y=\"-93.4\" font-family=\"Times,serif\" font-size=\"12.00\" fill=\"#000000\">100</text>\n</g>\n<!-- 139891829657360&#45;&gt;139891829573520 -->\n<g id=\"edge12\" class=\"edge\">\n<title>139891829657360&#45;&gt;139891829573520</title>\n<path fill=\"none\" stroke=\"#000000\" stroke-width=\"2.2444\" d=\"M878.41,-135.9922C890.0911,-138.6425 904.2671,-141.8589 917.9787,-144.97\"/>\n<polygon fill=\"#000000\" stroke=\"#000000\" stroke-width=\"2.2444\" points=\"917.3119,-148.4075 927.8385,-147.207 918.8608,-141.5811 917.3119,-148.4075\"/>\n<text text-anchor=\"middle\" x=\"903.5\" y=\"-145.4\" font-family=\"Times,serif\" font-size=\"12.00\" fill=\"#000000\">80</text>\n</g>\n<!-- 139891829657360&#45;&gt;139891829573232 -->\n<g id=\"edge13\" class=\"edge\">\n<title>139891829657360&#45;&gt;139891829573232</title>\n<path fill=\"none\" stroke=\"#000000\" stroke-width=\"1.1778\" d=\"M878.41,-124.0078C890.8721,-121.1803 906.1739,-117.7084 920.7219,-114.4076\"/>\n<polygon fill=\"#000000\" stroke=\"#000000\" stroke-width=\"1.1778\" points=\"921.6513,-117.7858 930.629,-112.1598 920.1024,-110.9593 921.6513,-117.7858\"/>\n<text text-anchor=\"middle\" x=\"903.5\" y=\"-123.4\" font-family=\"Times,serif\" font-size=\"12.00\" fill=\"#000000\">20</text>\n</g>\n<!-- 139891829573760&#45;&gt;139891829572896 -->\n<g id=\"edge14\" class=\"edge\">\n<title>139891829573760&#45;&gt;139891829572896</title>\n<path fill=\"none\" stroke=\"#000000\" stroke-width=\"2.6\" d=\"M1117.2947,-130C1130.1228,-130 1146.0141,-130 1161.6653,-130\"/>\n<polygon fill=\"#000000\" stroke=\"#000000\" stroke-width=\"2.6\" points=\"1161.8811,-133.5001 1171.881,-130 1161.881,-126.5001 1161.8811,-133.5001\"/>\n<text text-anchor=\"middle\" x=\"1144.5\" y=\"-133.4\" font-family=\"Times,serif\" font-size=\"12.00\" fill=\"#000000\">100</text>\n</g>\n<!-- 139891829657120&#45;&gt;139891829656496 -->\n<g id=\"edge15\" class=\"edge\">\n<title>139891829657120&#45;&gt;139891829656496</title>\n<path fill=\"none\" stroke=\"#000000\" stroke-width=\"2.6\" d=\"M324.0948,-202C338.4918,-202 356.7755,-202 374.2073,-202\"/>\n<polygon fill=\"#000000\" stroke=\"#000000\" stroke-width=\"2.6\" points=\"374.3366,-205.5001 384.3365,-202 374.3365,-198.5001 374.3366,-205.5001\"/>\n<text text-anchor=\"middle\" x=\"351.5\" y=\"-205.4\" font-family=\"Times,serif\" font-size=\"12.00\" fill=\"#000000\">100</text>\n</g>\n<!-- 139891829655920&#45;&gt;139891829573952 -->\n<g id=\"edge16\" class=\"edge\">\n<title>139891829655920&#45;&gt;139891829573952</title>\n<path fill=\"none\" stroke=\"#000000\" stroke-width=\"2.6\" d=\"M592.0884,-189.7862C612.085,-179.647 641.0678,-164.9515 665.2943,-152.6677\"/>\n<polygon fill=\"#000000\" stroke=\"#000000\" stroke-width=\"2.6\" points=\"666.9816,-155.7364 674.3178,-148.0924 663.8159,-149.4931 666.9816,-155.7364\"/>\n<text text-anchor=\"middle\" x=\"622.5\" y=\"-181.4\" font-family=\"Times,serif\" font-size=\"12.00\" fill=\"#000000\">100</text>\n</g>\n<!-- 139891829573136&#45;&gt;139891829575248 -->\n<g id=\"edge17\" class=\"edge\">\n<title>139891829573136&#45;&gt;139891829575248</title>\n<path fill=\"none\" stroke=\"#000000\" stroke-width=\"2.6\" d=\"M324.0948,-130C336.9556,-130 352.918,-130 368.6039,-130\"/>\n<polygon fill=\"#000000\" stroke=\"#000000\" stroke-width=\"2.6\" points=\"368.8366,-133.5001 378.8366,-130 368.8366,-126.5001 368.8366,-133.5001\"/>\n<text text-anchor=\"middle\" x=\"351.5\" y=\"-133.4\" font-family=\"Times,serif\" font-size=\"12.00\" fill=\"#000000\">100</text>\n</g>\n<!-- 139891829575536&#45;&gt;139891829573952 -->\n<g id=\"edge18\" class=\"edge\">\n<title>139891829575536&#45;&gt;139891829573952</title>\n<path fill=\"none\" stroke=\"#000000\" stroke-width=\"2.6\" d=\"M595.0434,-130C607.7832,-130 623.636,-130 639.4584,-130\"/>\n<polygon fill=\"#000000\" stroke=\"#000000\" stroke-width=\"2.6\" points=\"639.8187,-133.5001 649.8186,-130 639.8186,-126.5001 639.8187,-133.5001\"/>\n<text text-anchor=\"middle\" x=\"622.5\" y=\"-133.4\" font-family=\"Times,serif\" font-size=\"12.00\" fill=\"#000000\">100</text>\n</g>\n<!-- 139891829575056&#45;&gt;139891829574624 -->\n<g id=\"edge20\" class=\"edge\">\n<title>139891829575056&#45;&gt;139891829574624</title>\n<path fill=\"none\" stroke=\"#000000\" d=\"M324.0948,-60.7995C344.4965,-62.9074 372.7033,-65.8217 395.2303,-68.1493\"/>\n<polygon fill=\"#000000\" stroke=\"#000000\" points=\"395.1454,-71.659 405.4522,-69.2054 395.8649,-64.6961 395.1454,-71.659\"/>\n<text text-anchor=\"middle\" x=\"351.5\" y=\"-68.4\" font-family=\"Times,serif\" font-size=\"12.00\" fill=\"#000000\">10</text>\n</g>\n<!-- 139891829575056&#45;&gt;139891829574240 -->\n<g id=\"edge19\" class=\"edge\">\n<title>139891829575056&#45;&gt;139891829574240</title>\n<path fill=\"none\" stroke=\"#000000\" stroke-width=\"2.4222\" d=\"M323.1258,-50.2876C338.0538,-45.8808 357.3838,-40.1745 375.6322,-34.7875\"/>\n<polygon fill=\"#000000\" stroke=\"#000000\" stroke-width=\"2.4222\" points=\"376.7347,-38.1115 385.3345,-31.9234 374.7527,-31.3979 376.7347,-38.1115\"/>\n<text text-anchor=\"middle\" x=\"351.5\" y=\"-47.4\" font-family=\"Times,serif\" font-size=\"12.00\" fill=\"#000000\">90</text>\n</g>\n</g>\n</svg>\n"
          },
          "metadata": {},
          "execution_count": 19
        }
      ]
    }
  ]
}
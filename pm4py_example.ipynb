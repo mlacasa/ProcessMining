{
  "nbformat": 4,
  "nbformat_minor": 0,
  "metadata": {
    "colab": {
      "provenance": [],
      "mount_file_id": "1GPghhByKNGnXGfXVZ2nrPJ40dD06B6ZW",
      "authorship_tag": "ABX9TyOt+pMVCm5eSSppp7+F4sj8",
      "include_colab_link": true
    },
    "kernelspec": {
      "name": "python3",
      "display_name": "Python 3"
    },
    "language_info": {
      "name": "python"
    },
    "widgets": {
      "application/vnd.jupyter.widget-state+json": {
        "3970fb332dce45e6ac6003a5623087da": {
          "model_module": "@jupyter-widgets/controls",
          "model_name": "HBoxModel",
          "model_module_version": "1.5.0",
          "state": {
            "_dom_classes": [],
            "_model_module": "@jupyter-widgets/controls",
            "_model_module_version": "1.5.0",
            "_model_name": "HBoxModel",
            "_view_count": null,
            "_view_module": "@jupyter-widgets/controls",
            "_view_module_version": "1.5.0",
            "_view_name": "HBoxView",
            "box_style": "",
            "children": [
              "IPY_MODEL_5d4c564ca23f46f98615f91cbc0734de",
              "IPY_MODEL_c2f9591a2a8e4f30a9a403b104301d35",
              "IPY_MODEL_b47fdb84f8014e318551433019d13ee5"
            ],
            "layout": "IPY_MODEL_6868b79c41ab4f49a5b8458510ea08ff"
          }
        },
        "5d4c564ca23f46f98615f91cbc0734de": {
          "model_module": "@jupyter-widgets/controls",
          "model_name": "HTMLModel",
          "model_module_version": "1.5.0",
          "state": {
            "_dom_classes": [],
            "_model_module": "@jupyter-widgets/controls",
            "_model_module_version": "1.5.0",
            "_model_name": "HTMLModel",
            "_view_count": null,
            "_view_module": "@jupyter-widgets/controls",
            "_view_module_version": "1.5.0",
            "_view_name": "HTMLView",
            "description": "",
            "description_tooltip": null,
            "layout": "IPY_MODEL_2b148b6ff114438d84247141b1eeff66",
            "placeholder": "​",
            "style": "IPY_MODEL_aa97ad4691624c9095425fe9ba2390d0",
            "value": "replaying log with TBR, completed variants :: 100%"
          }
        },
        "c2f9591a2a8e4f30a9a403b104301d35": {
          "model_module": "@jupyter-widgets/controls",
          "model_name": "FloatProgressModel",
          "model_module_version": "1.5.0",
          "state": {
            "_dom_classes": [],
            "_model_module": "@jupyter-widgets/controls",
            "_model_module_version": "1.5.0",
            "_model_name": "FloatProgressModel",
            "_view_count": null,
            "_view_module": "@jupyter-widgets/controls",
            "_view_module_version": "1.5.0",
            "_view_name": "ProgressView",
            "bar_style": "success",
            "description": "",
            "description_tooltip": null,
            "layout": "IPY_MODEL_76a275cdbb65491c8ba3691bbed63044",
            "max": 15,
            "min": 0,
            "orientation": "horizontal",
            "style": "IPY_MODEL_fdfc2189a9874407a0b38b708de68d95",
            "value": 15
          }
        },
        "b47fdb84f8014e318551433019d13ee5": {
          "model_module": "@jupyter-widgets/controls",
          "model_name": "HTMLModel",
          "model_module_version": "1.5.0",
          "state": {
            "_dom_classes": [],
            "_model_module": "@jupyter-widgets/controls",
            "_model_module_version": "1.5.0",
            "_model_name": "HTMLModel",
            "_view_count": null,
            "_view_module": "@jupyter-widgets/controls",
            "_view_module_version": "1.5.0",
            "_view_name": "HTMLView",
            "description": "",
            "description_tooltip": null,
            "layout": "IPY_MODEL_37a8762e5fbd4deebfd763eeda7f8463",
            "placeholder": "​",
            "style": "IPY_MODEL_1718c96fd2944b7a868dbd4ee024edeb",
            "value": " 15/15 [00:00&lt;00:00,  7.00it/s]"
          }
        },
        "6868b79c41ab4f49a5b8458510ea08ff": {
          "model_module": "@jupyter-widgets/base",
          "model_name": "LayoutModel",
          "model_module_version": "1.2.0",
          "state": {
            "_model_module": "@jupyter-widgets/base",
            "_model_module_version": "1.2.0",
            "_model_name": "LayoutModel",
            "_view_count": null,
            "_view_module": "@jupyter-widgets/base",
            "_view_module_version": "1.2.0",
            "_view_name": "LayoutView",
            "align_content": null,
            "align_items": null,
            "align_self": null,
            "border": null,
            "bottom": null,
            "display": null,
            "flex": null,
            "flex_flow": null,
            "grid_area": null,
            "grid_auto_columns": null,
            "grid_auto_flow": null,
            "grid_auto_rows": null,
            "grid_column": null,
            "grid_gap": null,
            "grid_row": null,
            "grid_template_areas": null,
            "grid_template_columns": null,
            "grid_template_rows": null,
            "height": null,
            "justify_content": null,
            "justify_items": null,
            "left": null,
            "margin": null,
            "max_height": null,
            "max_width": null,
            "min_height": null,
            "min_width": null,
            "object_fit": null,
            "object_position": null,
            "order": null,
            "overflow": null,
            "overflow_x": null,
            "overflow_y": null,
            "padding": null,
            "right": null,
            "top": null,
            "visibility": null,
            "width": null
          }
        },
        "2b148b6ff114438d84247141b1eeff66": {
          "model_module": "@jupyter-widgets/base",
          "model_name": "LayoutModel",
          "model_module_version": "1.2.0",
          "state": {
            "_model_module": "@jupyter-widgets/base",
            "_model_module_version": "1.2.0",
            "_model_name": "LayoutModel",
            "_view_count": null,
            "_view_module": "@jupyter-widgets/base",
            "_view_module_version": "1.2.0",
            "_view_name": "LayoutView",
            "align_content": null,
            "align_items": null,
            "align_self": null,
            "border": null,
            "bottom": null,
            "display": null,
            "flex": null,
            "flex_flow": null,
            "grid_area": null,
            "grid_auto_columns": null,
            "grid_auto_flow": null,
            "grid_auto_rows": null,
            "grid_column": null,
            "grid_gap": null,
            "grid_row": null,
            "grid_template_areas": null,
            "grid_template_columns": null,
            "grid_template_rows": null,
            "height": null,
            "justify_content": null,
            "justify_items": null,
            "left": null,
            "margin": null,
            "max_height": null,
            "max_width": null,
            "min_height": null,
            "min_width": null,
            "object_fit": null,
            "object_position": null,
            "order": null,
            "overflow": null,
            "overflow_x": null,
            "overflow_y": null,
            "padding": null,
            "right": null,
            "top": null,
            "visibility": null,
            "width": null
          }
        },
        "aa97ad4691624c9095425fe9ba2390d0": {
          "model_module": "@jupyter-widgets/controls",
          "model_name": "DescriptionStyleModel",
          "model_module_version": "1.5.0",
          "state": {
            "_model_module": "@jupyter-widgets/controls",
            "_model_module_version": "1.5.0",
            "_model_name": "DescriptionStyleModel",
            "_view_count": null,
            "_view_module": "@jupyter-widgets/base",
            "_view_module_version": "1.2.0",
            "_view_name": "StyleView",
            "description_width": ""
          }
        },
        "76a275cdbb65491c8ba3691bbed63044": {
          "model_module": "@jupyter-widgets/base",
          "model_name": "LayoutModel",
          "model_module_version": "1.2.0",
          "state": {
            "_model_module": "@jupyter-widgets/base",
            "_model_module_version": "1.2.0",
            "_model_name": "LayoutModel",
            "_view_count": null,
            "_view_module": "@jupyter-widgets/base",
            "_view_module_version": "1.2.0",
            "_view_name": "LayoutView",
            "align_content": null,
            "align_items": null,
            "align_self": null,
            "border": null,
            "bottom": null,
            "display": null,
            "flex": null,
            "flex_flow": null,
            "grid_area": null,
            "grid_auto_columns": null,
            "grid_auto_flow": null,
            "grid_auto_rows": null,
            "grid_column": null,
            "grid_gap": null,
            "grid_row": null,
            "grid_template_areas": null,
            "grid_template_columns": null,
            "grid_template_rows": null,
            "height": null,
            "justify_content": null,
            "justify_items": null,
            "left": null,
            "margin": null,
            "max_height": null,
            "max_width": null,
            "min_height": null,
            "min_width": null,
            "object_fit": null,
            "object_position": null,
            "order": null,
            "overflow": null,
            "overflow_x": null,
            "overflow_y": null,
            "padding": null,
            "right": null,
            "top": null,
            "visibility": null,
            "width": null
          }
        },
        "fdfc2189a9874407a0b38b708de68d95": {
          "model_module": "@jupyter-widgets/controls",
          "model_name": "ProgressStyleModel",
          "model_module_version": "1.5.0",
          "state": {
            "_model_module": "@jupyter-widgets/controls",
            "_model_module_version": "1.5.0",
            "_model_name": "ProgressStyleModel",
            "_view_count": null,
            "_view_module": "@jupyter-widgets/base",
            "_view_module_version": "1.2.0",
            "_view_name": "StyleView",
            "bar_color": null,
            "description_width": ""
          }
        },
        "37a8762e5fbd4deebfd763eeda7f8463": {
          "model_module": "@jupyter-widgets/base",
          "model_name": "LayoutModel",
          "model_module_version": "1.2.0",
          "state": {
            "_model_module": "@jupyter-widgets/base",
            "_model_module_version": "1.2.0",
            "_model_name": "LayoutModel",
            "_view_count": null,
            "_view_module": "@jupyter-widgets/base",
            "_view_module_version": "1.2.0",
            "_view_name": "LayoutView",
            "align_content": null,
            "align_items": null,
            "align_self": null,
            "border": null,
            "bottom": null,
            "display": null,
            "flex": null,
            "flex_flow": null,
            "grid_area": null,
            "grid_auto_columns": null,
            "grid_auto_flow": null,
            "grid_auto_rows": null,
            "grid_column": null,
            "grid_gap": null,
            "grid_row": null,
            "grid_template_areas": null,
            "grid_template_columns": null,
            "grid_template_rows": null,
            "height": null,
            "justify_content": null,
            "justify_items": null,
            "left": null,
            "margin": null,
            "max_height": null,
            "max_width": null,
            "min_height": null,
            "min_width": null,
            "object_fit": null,
            "object_position": null,
            "order": null,
            "overflow": null,
            "overflow_x": null,
            "overflow_y": null,
            "padding": null,
            "right": null,
            "top": null,
            "visibility": null,
            "width": null
          }
        },
        "1718c96fd2944b7a868dbd4ee024edeb": {
          "model_module": "@jupyter-widgets/controls",
          "model_name": "DescriptionStyleModel",
          "model_module_version": "1.5.0",
          "state": {
            "_model_module": "@jupyter-widgets/controls",
            "_model_module_version": "1.5.0",
            "_model_name": "DescriptionStyleModel",
            "_view_count": null,
            "_view_module": "@jupyter-widgets/base",
            "_view_module_version": "1.2.0",
            "_view_name": "StyleView",
            "description_width": ""
          }
        }
      }
    }
  },
  "cells": [
    {
      "cell_type": "markdown",
      "metadata": {
        "id": "view-in-github",
        "colab_type": "text"
      },
      "source": [
        "<a href=\"https://colab.research.google.com/github/mlacasa/ProcessMining/blob/main/pm4py_example.ipynb\" target=\"_parent\"><img src=\"https://colab.research.google.com/assets/colab-badge.svg\" alt=\"Open In Colab\"/></a>"
      ]
    },
    {
      "cell_type": "markdown",
      "source": [
        "# Ejemplo de uso de la libreria PM4PY\n",
        "\n",
        "Dataset: https://gitlab.com/healthcare2/process-mining-tutorial/-/blob/master/ArtificialPatientTreatment.csv"
      ],
      "metadata": {
        "id": "zCo0yii3s67Q"
      }
    },
    {
      "cell_type": "code",
      "source": [
        "pip install pm4py"
      ],
      "metadata": {
        "colab": {
          "base_uri": "https://localhost:8080/"
        },
        "id": "NMbftLkbtZ_3",
        "outputId": "f5a94802-0374-421c-bedf-106a7addf1e2"
      },
      "execution_count": 2,
      "outputs": [
        {
          "output_type": "stream",
          "name": "stdout",
          "text": [
            "Looking in indexes: https://pypi.org/simple, https://us-python.pkg.dev/colab-wheels/public/simple/\n",
            "Collecting pm4py\n",
            "  Downloading pm4py-2.3.2-py3-none-any.whl (1.5 MB)\n",
            "\u001b[K     |████████████████████████████████| 1.5 MB 5.1 MB/s \n",
            "\u001b[?25hRequirement already satisfied: sympy in /usr/local/lib/python3.8/dist-packages (from pm4py) (1.7.1)\n",
            "Requirement already satisfied: tqdm in /usr/local/lib/python3.8/dist-packages (from pm4py) (4.64.1)\n",
            "Collecting pyvis\n",
            "  Downloading pyvis-0.3.1.tar.gz (748 kB)\n",
            "\u001b[K     |████████████████████████████████| 748 kB 49.5 MB/s \n",
            "\u001b[?25hRequirement already satisfied: scipy in /usr/local/lib/python3.8/dist-packages (from pm4py) (1.7.3)\n",
            "Requirement already satisfied: matplotlib in /usr/local/lib/python3.8/dist-packages (from pm4py) (3.2.2)\n",
            "Collecting stringdist\n",
            "  Downloading StringDist-1.0.9.tar.gz (7.4 kB)\n",
            "Requirement already satisfied: lxml in /usr/local/lib/python3.8/dist-packages (from pm4py) (4.9.1)\n",
            "Requirement already satisfied: graphviz in /usr/local/lib/python3.8/dist-packages (from pm4py) (0.10.1)\n",
            "Requirement already satisfied: networkx in /usr/local/lib/python3.8/dist-packages (from pm4py) (2.8.8)\n",
            "Requirement already satisfied: cvxopt in /usr/local/lib/python3.8/dist-packages (from pm4py) (1.3.0)\n",
            "Requirement already satisfied: intervaltree in /usr/local/lib/python3.8/dist-packages (from pm4py) (2.1.0)\n",
            "Requirement already satisfied: numpy>=1.19.5 in /usr/local/lib/python3.8/dist-packages (from pm4py) (1.21.6)\n",
            "Requirement already satisfied: pydotplus in /usr/local/lib/python3.8/dist-packages (from pm4py) (2.0.2)\n",
            "Collecting jsonpickle\n",
            "  Downloading jsonpickle-3.0.0-py2.py3-none-any.whl (40 kB)\n",
            "\u001b[K     |████████████████████████████████| 40 kB 5.2 MB/s \n",
            "\u001b[?25hRequirement already satisfied: pytz in /usr/local/lib/python3.8/dist-packages (from pm4py) (2022.6)\n",
            "Collecting deprecation\n",
            "  Downloading deprecation-2.1.0-py2.py3-none-any.whl (11 kB)\n",
            "Requirement already satisfied: pandas>=1.1.5 in /usr/local/lib/python3.8/dist-packages (from pm4py) (1.3.5)\n",
            "Requirement already satisfied: python-dateutil>=2.7.3 in /usr/local/lib/python3.8/dist-packages (from pandas>=1.1.5->pm4py) (2.8.2)\n",
            "Requirement already satisfied: six>=1.5 in /usr/local/lib/python3.8/dist-packages (from python-dateutil>=2.7.3->pandas>=1.1.5->pm4py) (1.15.0)\n",
            "Requirement already satisfied: packaging in /usr/local/lib/python3.8/dist-packages (from deprecation->pm4py) (21.3)\n",
            "Requirement already satisfied: sortedcontainers in /usr/local/lib/python3.8/dist-packages (from intervaltree->pm4py) (2.4.0)\n",
            "Requirement already satisfied: cycler>=0.10 in /usr/local/lib/python3.8/dist-packages (from matplotlib->pm4py) (0.11.0)\n",
            "Requirement already satisfied: pyparsing!=2.0.4,!=2.1.2,!=2.1.6,>=2.0.1 in /usr/local/lib/python3.8/dist-packages (from matplotlib->pm4py) (3.0.9)\n",
            "Requirement already satisfied: kiwisolver>=1.0.1 in /usr/local/lib/python3.8/dist-packages (from matplotlib->pm4py) (1.4.4)\n",
            "Requirement already satisfied: jinja2>=2.9.6 in /usr/local/lib/python3.8/dist-packages (from pyvis->pm4py) (2.11.3)\n",
            "Requirement already satisfied: ipython>=5.3.0 in /usr/local/lib/python3.8/dist-packages (from pyvis->pm4py) (7.9.0)\n",
            "Requirement already satisfied: setuptools>=18.5 in /usr/local/lib/python3.8/dist-packages (from ipython>=5.3.0->pyvis->pm4py) (57.4.0)\n",
            "Collecting jedi>=0.10\n",
            "  Downloading jedi-0.18.2-py2.py3-none-any.whl (1.6 MB)\n",
            "\u001b[K     |████████████████████████████████| 1.6 MB 41.1 MB/s \n",
            "\u001b[?25hRequirement already satisfied: decorator in /usr/local/lib/python3.8/dist-packages (from ipython>=5.3.0->pyvis->pm4py) (4.4.2)\n",
            "Requirement already satisfied: traitlets>=4.2 in /usr/local/lib/python3.8/dist-packages (from ipython>=5.3.0->pyvis->pm4py) (5.6.0)\n",
            "Requirement already satisfied: pickleshare in /usr/local/lib/python3.8/dist-packages (from ipython>=5.3.0->pyvis->pm4py) (0.7.5)\n",
            "Requirement already satisfied: backcall in /usr/local/lib/python3.8/dist-packages (from ipython>=5.3.0->pyvis->pm4py) (0.2.0)\n",
            "Requirement already satisfied: pygments in /usr/local/lib/python3.8/dist-packages (from ipython>=5.3.0->pyvis->pm4py) (2.6.1)\n",
            "Requirement already satisfied: prompt-toolkit<2.1.0,>=2.0.0 in /usr/local/lib/python3.8/dist-packages (from ipython>=5.3.0->pyvis->pm4py) (2.0.10)\n",
            "Requirement already satisfied: pexpect in /usr/local/lib/python3.8/dist-packages (from ipython>=5.3.0->pyvis->pm4py) (4.8.0)\n",
            "Requirement already satisfied: parso<0.9.0,>=0.8.0 in /usr/local/lib/python3.8/dist-packages (from jedi>=0.10->ipython>=5.3.0->pyvis->pm4py) (0.8.3)\n",
            "Requirement already satisfied: MarkupSafe>=0.23 in /usr/local/lib/python3.8/dist-packages (from jinja2>=2.9.6->pyvis->pm4py) (2.0.1)\n",
            "Requirement already satisfied: wcwidth in /usr/local/lib/python3.8/dist-packages (from prompt-toolkit<2.1.0,>=2.0.0->ipython>=5.3.0->pyvis->pm4py) (0.2.5)\n",
            "Requirement already satisfied: ptyprocess>=0.5 in /usr/local/lib/python3.8/dist-packages (from pexpect->ipython>=5.3.0->pyvis->pm4py) (0.7.0)\n",
            "Requirement already satisfied: mpmath>=0.19 in /usr/local/lib/python3.8/dist-packages (from sympy->pm4py) (1.2.1)\n",
            "Building wheels for collected packages: pyvis, stringdist\n",
            "  Building wheel for pyvis (setup.py) ... \u001b[?25l\u001b[?25hdone\n",
            "  Created wheel for pyvis: filename=pyvis-0.3.1-py3-none-any.whl size=755850 sha256=138f27cb27677f68cc0afbee268fa05c129aad16afd63dd8c09d3ba1cb8394ab\n",
            "  Stored in directory: /root/.cache/pip/wheels/a4/0c/61/8469ca276f96ab772c3acc7f47d71e9737cbdf6f446f017f48\n",
            "  Building wheel for stringdist (setup.py) ... \u001b[?25l\u001b[?25hdone\n",
            "  Created wheel for stringdist: filename=StringDist-1.0.9-cp38-cp38-linux_x86_64.whl size=24195 sha256=edebac4ecd9bc78c3a8adf27d4bbdb544c5e3f5986bf5c835fe89b93bf7b9a98\n",
            "  Stored in directory: /root/.cache/pip/wheels/7a/64/e2/16f6a25a62a78f951c1715adb24ba2271ae9d7872f42378c3a\n",
            "Successfully built pyvis stringdist\n",
            "Installing collected packages: jedi, jsonpickle, stringdist, pyvis, deprecation, pm4py\n",
            "Successfully installed deprecation-2.1.0 jedi-0.18.2 jsonpickle-3.0.0 pm4py-2.3.2 pyvis-0.3.1 stringdist-1.0.9\n"
          ]
        }
      ]
    },
    {
      "cell_type": "code",
      "execution_count": 3,
      "metadata": {
        "id": "YWJdqa4SsyGk"
      },
      "outputs": [],
      "source": [
        "import pandas as pd\n",
        "import pm4py"
      ]
    },
    {
      "cell_type": "code",
      "source": [
        "# Cargamos la dataset\n",
        "df = pd.read_csv('/content/drive/MyDrive/Colab Notebooks/Mineria Processos/ArtificialPatientTreatment.csv')"
      ],
      "metadata": {
        "id": "Uh0B81F6trAB"
      },
      "execution_count": 4,
      "outputs": []
    },
    {
      "cell_type": "code",
      "source": [
        "df.head()"
      ],
      "metadata": {
        "colab": {
          "base_uri": "https://localhost:8080/",
          "height": 206
        },
        "id": "w962JPsat5gr",
        "outputId": "0295e94e-f064-4692-8c55-b5fcf979ff0e"
      },
      "execution_count": 5,
      "outputs": [
        {
          "output_type": "execute_result",
          "data": {
            "text/plain": [
              "     patient           action  org:resource              DateTime\n",
              "0  patient 0    First consult      Dr. Anna   2017-01-02 11:40:11\n",
              "1  patient 0       Blood test           Lab   2017-01-02 12:47:33\n",
              "2  patient 0    Physical test   Nurse Jesse   2017-01-02 12:53:50\n",
              "3  patient 0   Second consult      Dr. Anna   2017-01-02 16:21:06\n",
              "4  patient 0          Surgery   Dr. Charlie   2017-01-05 13:23:09"
            ],
            "text/html": [
              "\n",
              "  <div id=\"df-9c36f493-8391-49f2-880d-7889861c8b87\">\n",
              "    <div class=\"colab-df-container\">\n",
              "      <div>\n",
              "<style scoped>\n",
              "    .dataframe tbody tr th:only-of-type {\n",
              "        vertical-align: middle;\n",
              "    }\n",
              "\n",
              "    .dataframe tbody tr th {\n",
              "        vertical-align: top;\n",
              "    }\n",
              "\n",
              "    .dataframe thead th {\n",
              "        text-align: right;\n",
              "    }\n",
              "</style>\n",
              "<table border=\"1\" class=\"dataframe\">\n",
              "  <thead>\n",
              "    <tr style=\"text-align: right;\">\n",
              "      <th></th>\n",
              "      <th>patient</th>\n",
              "      <th>action</th>\n",
              "      <th>org:resource</th>\n",
              "      <th>DateTime</th>\n",
              "    </tr>\n",
              "  </thead>\n",
              "  <tbody>\n",
              "    <tr>\n",
              "      <th>0</th>\n",
              "      <td>patient 0</td>\n",
              "      <td>First consult</td>\n",
              "      <td>Dr. Anna</td>\n",
              "      <td>2017-01-02 11:40:11</td>\n",
              "    </tr>\n",
              "    <tr>\n",
              "      <th>1</th>\n",
              "      <td>patient 0</td>\n",
              "      <td>Blood test</td>\n",
              "      <td>Lab</td>\n",
              "      <td>2017-01-02 12:47:33</td>\n",
              "    </tr>\n",
              "    <tr>\n",
              "      <th>2</th>\n",
              "      <td>patient 0</td>\n",
              "      <td>Physical test</td>\n",
              "      <td>Nurse Jesse</td>\n",
              "      <td>2017-01-02 12:53:50</td>\n",
              "    </tr>\n",
              "    <tr>\n",
              "      <th>3</th>\n",
              "      <td>patient 0</td>\n",
              "      <td>Second consult</td>\n",
              "      <td>Dr. Anna</td>\n",
              "      <td>2017-01-02 16:21:06</td>\n",
              "    </tr>\n",
              "    <tr>\n",
              "      <th>4</th>\n",
              "      <td>patient 0</td>\n",
              "      <td>Surgery</td>\n",
              "      <td>Dr. Charlie</td>\n",
              "      <td>2017-01-05 13:23:09</td>\n",
              "    </tr>\n",
              "  </tbody>\n",
              "</table>\n",
              "</div>\n",
              "      <button class=\"colab-df-convert\" onclick=\"convertToInteractive('df-9c36f493-8391-49f2-880d-7889861c8b87')\"\n",
              "              title=\"Convert this dataframe to an interactive table.\"\n",
              "              style=\"display:none;\">\n",
              "        \n",
              "  <svg xmlns=\"http://www.w3.org/2000/svg\" height=\"24px\"viewBox=\"0 0 24 24\"\n",
              "       width=\"24px\">\n",
              "    <path d=\"M0 0h24v24H0V0z\" fill=\"none\"/>\n",
              "    <path d=\"M18.56 5.44l.94 2.06.94-2.06 2.06-.94-2.06-.94-.94-2.06-.94 2.06-2.06.94zm-11 1L8.5 8.5l.94-2.06 2.06-.94-2.06-.94L8.5 2.5l-.94 2.06-2.06.94zm10 10l.94 2.06.94-2.06 2.06-.94-2.06-.94-.94-2.06-.94 2.06-2.06.94z\"/><path d=\"M17.41 7.96l-1.37-1.37c-.4-.4-.92-.59-1.43-.59-.52 0-1.04.2-1.43.59L10.3 9.45l-7.72 7.72c-.78.78-.78 2.05 0 2.83L4 21.41c.39.39.9.59 1.41.59.51 0 1.02-.2 1.41-.59l7.78-7.78 2.81-2.81c.8-.78.8-2.07 0-2.86zM5.41 20L4 18.59l7.72-7.72 1.47 1.35L5.41 20z\"/>\n",
              "  </svg>\n",
              "      </button>\n",
              "      \n",
              "  <style>\n",
              "    .colab-df-container {\n",
              "      display:flex;\n",
              "      flex-wrap:wrap;\n",
              "      gap: 12px;\n",
              "    }\n",
              "\n",
              "    .colab-df-convert {\n",
              "      background-color: #E8F0FE;\n",
              "      border: none;\n",
              "      border-radius: 50%;\n",
              "      cursor: pointer;\n",
              "      display: none;\n",
              "      fill: #1967D2;\n",
              "      height: 32px;\n",
              "      padding: 0 0 0 0;\n",
              "      width: 32px;\n",
              "    }\n",
              "\n",
              "    .colab-df-convert:hover {\n",
              "      background-color: #E2EBFA;\n",
              "      box-shadow: 0px 1px 2px rgba(60, 64, 67, 0.3), 0px 1px 3px 1px rgba(60, 64, 67, 0.15);\n",
              "      fill: #174EA6;\n",
              "    }\n",
              "\n",
              "    [theme=dark] .colab-df-convert {\n",
              "      background-color: #3B4455;\n",
              "      fill: #D2E3FC;\n",
              "    }\n",
              "\n",
              "    [theme=dark] .colab-df-convert:hover {\n",
              "      background-color: #434B5C;\n",
              "      box-shadow: 0px 1px 3px 1px rgba(0, 0, 0, 0.15);\n",
              "      filter: drop-shadow(0px 1px 2px rgba(0, 0, 0, 0.3));\n",
              "      fill: #FFFFFF;\n",
              "    }\n",
              "  </style>\n",
              "\n",
              "      <script>\n",
              "        const buttonEl =\n",
              "          document.querySelector('#df-9c36f493-8391-49f2-880d-7889861c8b87 button.colab-df-convert');\n",
              "        buttonEl.style.display =\n",
              "          google.colab.kernel.accessAllowed ? 'block' : 'none';\n",
              "\n",
              "        async function convertToInteractive(key) {\n",
              "          const element = document.querySelector('#df-9c36f493-8391-49f2-880d-7889861c8b87');\n",
              "          const dataTable =\n",
              "            await google.colab.kernel.invokeFunction('convertToInteractive',\n",
              "                                                     [key], {});\n",
              "          if (!dataTable) return;\n",
              "\n",
              "          const docLinkHtml = 'Like what you see? Visit the ' +\n",
              "            '<a target=\"_blank\" href=https://colab.research.google.com/notebooks/data_table.ipynb>data table notebook</a>'\n",
              "            + ' to learn more about interactive tables.';\n",
              "          element.innerHTML = '';\n",
              "          dataTable['output_type'] = 'display_data';\n",
              "          await google.colab.output.renderOutput(dataTable, element);\n",
              "          const docLink = document.createElement('div');\n",
              "          docLink.innerHTML = docLinkHtml;\n",
              "          element.appendChild(docLink);\n",
              "        }\n",
              "      </script>\n",
              "    </div>\n",
              "  </div>\n",
              "  "
            ]
          },
          "metadata": {},
          "execution_count": 5
        }
      ]
    },
    {
      "cell_type": "code",
      "source": [
        "df.dtypes"
      ],
      "metadata": {
        "colab": {
          "base_uri": "https://localhost:8080/"
        },
        "id": "zmy9XQQN1uFY",
        "outputId": "fa9a1afc-5594-4beb-a107-dc43a1bb18b8"
      },
      "execution_count": 36,
      "outputs": [
        {
          "output_type": "execute_result",
          "data": {
            "text/plain": [
              "patient                           object\n",
              "action                            object\n",
              "doctor                            object\n",
              "DateTime             datetime64[ns, UTC]\n",
              "case:concept:name                 object\n",
              "concept:name                      object\n",
              "time:timestamp       datetime64[ns, UTC]\n",
              "dtype: object"
            ]
          },
          "metadata": {},
          "execution_count": 36
        }
      ]
    },
    {
      "cell_type": "code",
      "source": [
        "# Modificamos nombre de columnas (ojo que hay un espacio -> ' action')\n",
        "df.columns = ['patient', 'action', 'doctor', 'DateTime']"
      ],
      "metadata": {
        "id": "0hedJvsgutAG"
      },
      "execution_count": 11,
      "outputs": []
    },
    {
      "cell_type": "code",
      "source": [
        "# Convertimos a dataset para pm4py\n",
        "event_log = pm4py.format_dataframe(df, case_id='patient',  activity_key='action',timestamp_key='DateTime')"
      ],
      "metadata": {
        "colab": {
          "base_uri": "https://localhost:8080/"
        },
        "id": "dkW45Rbgt7Dp",
        "outputId": "0073aaa5-1bed-4322-fa53-ea05be7ccb2f"
      },
      "execution_count": 12,
      "outputs": [
        {
          "output_type": "stream",
          "name": "stderr",
          "text": [
            "<ipython-input-12-71164c8a82c1>:2: DeprecatedWarning: format_dataframe is deprecated as of 2.3.0 and will be removed in 3.0.0. the format_dataframe function does not need application anymore.\n",
            "  event_log = pm4py.format_dataframe(df, case_id='patient',  activity_key='action',timestamp_key='DateTime')\n"
          ]
        }
      ]
    },
    {
      "cell_type": "code",
      "source": [
        "event_log.head()"
      ],
      "metadata": {
        "colab": {
          "base_uri": "https://localhost:8080/",
          "height": 250
        },
        "id": "HW7_m3bgxDoF",
        "outputId": "ff81b2e5-0c9a-4abb-a96b-38ca71462a61"
      },
      "execution_count": 15,
      "outputs": [
        {
          "output_type": "execute_result",
          "data": {
            "text/plain": [
              "     patient           action        doctor                  DateTime  \\\n",
              "0  patient 0    First consult      Dr. Anna 2017-01-02 11:40:11+00:00   \n",
              "1  patient 0       Blood test           Lab 2017-01-02 12:47:33+00:00   \n",
              "2  patient 0    Physical test   Nurse Jesse 2017-01-02 12:53:50+00:00   \n",
              "3  patient 0   Second consult      Dr. Anna 2017-01-02 16:21:06+00:00   \n",
              "4  patient 0          Surgery   Dr. Charlie 2017-01-05 13:23:09+00:00   \n",
              "\n",
              "  case:concept:name     concept:name            time:timestamp  @@index  \\\n",
              "0         patient 0    First consult 2017-01-02 11:40:11+00:00        0   \n",
              "1         patient 0       Blood test 2017-01-02 12:47:33+00:00        1   \n",
              "2         patient 0    Physical test 2017-01-02 12:53:50+00:00        2   \n",
              "3         patient 0   Second consult 2017-01-02 16:21:06+00:00        3   \n",
              "4         patient 0          Surgery 2017-01-05 13:23:09+00:00        4   \n",
              "\n",
              "   @@case_index  \n",
              "0             0  \n",
              "1             0  \n",
              "2             0  \n",
              "3             0  \n",
              "4             0  "
            ],
            "text/html": [
              "\n",
              "  <div id=\"df-3effff76-5e96-4de5-bd76-304c0eadb70a\">\n",
              "    <div class=\"colab-df-container\">\n",
              "      <div>\n",
              "<style scoped>\n",
              "    .dataframe tbody tr th:only-of-type {\n",
              "        vertical-align: middle;\n",
              "    }\n",
              "\n",
              "    .dataframe tbody tr th {\n",
              "        vertical-align: top;\n",
              "    }\n",
              "\n",
              "    .dataframe thead th {\n",
              "        text-align: right;\n",
              "    }\n",
              "</style>\n",
              "<table border=\"1\" class=\"dataframe\">\n",
              "  <thead>\n",
              "    <tr style=\"text-align: right;\">\n",
              "      <th></th>\n",
              "      <th>patient</th>\n",
              "      <th>action</th>\n",
              "      <th>doctor</th>\n",
              "      <th>DateTime</th>\n",
              "      <th>case:concept:name</th>\n",
              "      <th>concept:name</th>\n",
              "      <th>time:timestamp</th>\n",
              "      <th>@@index</th>\n",
              "      <th>@@case_index</th>\n",
              "    </tr>\n",
              "  </thead>\n",
              "  <tbody>\n",
              "    <tr>\n",
              "      <th>0</th>\n",
              "      <td>patient 0</td>\n",
              "      <td>First consult</td>\n",
              "      <td>Dr. Anna</td>\n",
              "      <td>2017-01-02 11:40:11+00:00</td>\n",
              "      <td>patient 0</td>\n",
              "      <td>First consult</td>\n",
              "      <td>2017-01-02 11:40:11+00:00</td>\n",
              "      <td>0</td>\n",
              "      <td>0</td>\n",
              "    </tr>\n",
              "    <tr>\n",
              "      <th>1</th>\n",
              "      <td>patient 0</td>\n",
              "      <td>Blood test</td>\n",
              "      <td>Lab</td>\n",
              "      <td>2017-01-02 12:47:33+00:00</td>\n",
              "      <td>patient 0</td>\n",
              "      <td>Blood test</td>\n",
              "      <td>2017-01-02 12:47:33+00:00</td>\n",
              "      <td>1</td>\n",
              "      <td>0</td>\n",
              "    </tr>\n",
              "    <tr>\n",
              "      <th>2</th>\n",
              "      <td>patient 0</td>\n",
              "      <td>Physical test</td>\n",
              "      <td>Nurse Jesse</td>\n",
              "      <td>2017-01-02 12:53:50+00:00</td>\n",
              "      <td>patient 0</td>\n",
              "      <td>Physical test</td>\n",
              "      <td>2017-01-02 12:53:50+00:00</td>\n",
              "      <td>2</td>\n",
              "      <td>0</td>\n",
              "    </tr>\n",
              "    <tr>\n",
              "      <th>3</th>\n",
              "      <td>patient 0</td>\n",
              "      <td>Second consult</td>\n",
              "      <td>Dr. Anna</td>\n",
              "      <td>2017-01-02 16:21:06+00:00</td>\n",
              "      <td>patient 0</td>\n",
              "      <td>Second consult</td>\n",
              "      <td>2017-01-02 16:21:06+00:00</td>\n",
              "      <td>3</td>\n",
              "      <td>0</td>\n",
              "    </tr>\n",
              "    <tr>\n",
              "      <th>4</th>\n",
              "      <td>patient 0</td>\n",
              "      <td>Surgery</td>\n",
              "      <td>Dr. Charlie</td>\n",
              "      <td>2017-01-05 13:23:09+00:00</td>\n",
              "      <td>patient 0</td>\n",
              "      <td>Surgery</td>\n",
              "      <td>2017-01-05 13:23:09+00:00</td>\n",
              "      <td>4</td>\n",
              "      <td>0</td>\n",
              "    </tr>\n",
              "  </tbody>\n",
              "</table>\n",
              "</div>\n",
              "      <button class=\"colab-df-convert\" onclick=\"convertToInteractive('df-3effff76-5e96-4de5-bd76-304c0eadb70a')\"\n",
              "              title=\"Convert this dataframe to an interactive table.\"\n",
              "              style=\"display:none;\">\n",
              "        \n",
              "  <svg xmlns=\"http://www.w3.org/2000/svg\" height=\"24px\"viewBox=\"0 0 24 24\"\n",
              "       width=\"24px\">\n",
              "    <path d=\"M0 0h24v24H0V0z\" fill=\"none\"/>\n",
              "    <path d=\"M18.56 5.44l.94 2.06.94-2.06 2.06-.94-2.06-.94-.94-2.06-.94 2.06-2.06.94zm-11 1L8.5 8.5l.94-2.06 2.06-.94-2.06-.94L8.5 2.5l-.94 2.06-2.06.94zm10 10l.94 2.06.94-2.06 2.06-.94-2.06-.94-.94-2.06-.94 2.06-2.06.94z\"/><path d=\"M17.41 7.96l-1.37-1.37c-.4-.4-.92-.59-1.43-.59-.52 0-1.04.2-1.43.59L10.3 9.45l-7.72 7.72c-.78.78-.78 2.05 0 2.83L4 21.41c.39.39.9.59 1.41.59.51 0 1.02-.2 1.41-.59l7.78-7.78 2.81-2.81c.8-.78.8-2.07 0-2.86zM5.41 20L4 18.59l7.72-7.72 1.47 1.35L5.41 20z\"/>\n",
              "  </svg>\n",
              "      </button>\n",
              "      \n",
              "  <style>\n",
              "    .colab-df-container {\n",
              "      display:flex;\n",
              "      flex-wrap:wrap;\n",
              "      gap: 12px;\n",
              "    }\n",
              "\n",
              "    .colab-df-convert {\n",
              "      background-color: #E8F0FE;\n",
              "      border: none;\n",
              "      border-radius: 50%;\n",
              "      cursor: pointer;\n",
              "      display: none;\n",
              "      fill: #1967D2;\n",
              "      height: 32px;\n",
              "      padding: 0 0 0 0;\n",
              "      width: 32px;\n",
              "    }\n",
              "\n",
              "    .colab-df-convert:hover {\n",
              "      background-color: #E2EBFA;\n",
              "      box-shadow: 0px 1px 2px rgba(60, 64, 67, 0.3), 0px 1px 3px 1px rgba(60, 64, 67, 0.15);\n",
              "      fill: #174EA6;\n",
              "    }\n",
              "\n",
              "    [theme=dark] .colab-df-convert {\n",
              "      background-color: #3B4455;\n",
              "      fill: #D2E3FC;\n",
              "    }\n",
              "\n",
              "    [theme=dark] .colab-df-convert:hover {\n",
              "      background-color: #434B5C;\n",
              "      box-shadow: 0px 1px 3px 1px rgba(0, 0, 0, 0.15);\n",
              "      filter: drop-shadow(0px 1px 2px rgba(0, 0, 0, 0.3));\n",
              "      fill: #FFFFFF;\n",
              "    }\n",
              "  </style>\n",
              "\n",
              "      <script>\n",
              "        const buttonEl =\n",
              "          document.querySelector('#df-3effff76-5e96-4de5-bd76-304c0eadb70a button.colab-df-convert');\n",
              "        buttonEl.style.display =\n",
              "          google.colab.kernel.accessAllowed ? 'block' : 'none';\n",
              "\n",
              "        async function convertToInteractive(key) {\n",
              "          const element = document.querySelector('#df-3effff76-5e96-4de5-bd76-304c0eadb70a');\n",
              "          const dataTable =\n",
              "            await google.colab.kernel.invokeFunction('convertToInteractive',\n",
              "                                                     [key], {});\n",
              "          if (!dataTable) return;\n",
              "\n",
              "          const docLinkHtml = 'Like what you see? Visit the ' +\n",
              "            '<a target=\"_blank\" href=https://colab.research.google.com/notebooks/data_table.ipynb>data table notebook</a>'\n",
              "            + ' to learn more about interactive tables.';\n",
              "          element.innerHTML = '';\n",
              "          dataTable['output_type'] = 'display_data';\n",
              "          await google.colab.output.renderOutput(dataTable, element);\n",
              "          const docLink = document.createElement('div');\n",
              "          docLink.innerHTML = docLinkHtml;\n",
              "          element.appendChild(docLink);\n",
              "        }\n",
              "      </script>\n",
              "    </div>\n",
              "  </div>\n",
              "  "
            ]
          },
          "metadata": {},
          "execution_count": 15
        }
      ]
    },
    {
      "cell_type": "code",
      "source": [
        "action = [x for x in event_log.action.unique()]\n",
        "action"
      ],
      "metadata": {
        "colab": {
          "base_uri": "https://localhost:8080/"
        },
        "id": "A13VJUsp2vVA",
        "outputId": "a98b9f4d-6aad-46ad-9b83-3027cda8a474"
      },
      "execution_count": 46,
      "outputs": [
        {
          "output_type": "execute_result",
          "data": {
            "text/plain": [
              "[' First consult',\n",
              " ' Blood test',\n",
              " ' Physical test',\n",
              " ' Second consult',\n",
              " ' Surgery',\n",
              " ' Final consult',\n",
              " ' X-ray scan',\n",
              " ' Medicine']"
            ]
          },
          "metadata": {},
          "execution_count": 46
        }
      ]
    },
    {
      "cell_type": "code",
      "source": [
        "# Número de registros (690 registros y 9 columnas)\n",
        "event_log.shape"
      ],
      "metadata": {
        "colab": {
          "base_uri": "https://localhost:8080/"
        },
        "id": "N5l-Pw_XzB9E",
        "outputId": "dbb04911-e7c1-4ad5-d44d-cd94aa355460"
      },
      "execution_count": 23,
      "outputs": [
        {
          "output_type": "execute_result",
          "data": {
            "text/plain": [
              "(690, 9)"
            ]
          },
          "metadata": {},
          "execution_count": 23
        }
      ]
    },
    {
      "cell_type": "code",
      "source": [
        "# Número de eventos, 100  pacientes registrados.\n",
        "len(event_log.patient.unique())"
      ],
      "metadata": {
        "colab": {
          "base_uri": "https://localhost:8080/"
        },
        "id": "ZlN-BGMCzIpb",
        "outputId": "63882c8f-4c8c-49d9-a4cd-57f940805684"
      },
      "execution_count": 25,
      "outputs": [
        {
          "output_type": "execute_result",
          "data": {
            "text/plain": [
              "100"
            ]
          },
          "metadata": {},
          "execution_count": 25
        }
      ]
    },
    {
      "cell_type": "code",
      "source": [
        "#Número de repetición de cada evento\n",
        "pd.DataFrame.from_dict(pm4py.get_variants(event_log, activity_key='concept:name', case_id_key='case:concept:name', timestamp_key='time:timestamp'), orient = 'index')"
      ],
      "metadata": {
        "colab": {
          "base_uri": "https://localhost:8080/",
          "height": 520
        },
        "id": "9vI5EseLvM9e",
        "outputId": "16084151-70cf-447e-a4f0-caff12b26b6d"
      },
      "execution_count": 30,
      "outputs": [
        {
          "output_type": "execute_result",
          "data": {
            "text/plain": [
              "                                                     0\n",
              "( First consult,  Blood test,  Physical test,  ...   2\n",
              "( First consult,  Physical test,  Blood test,  ...  10\n",
              "( First consult,  Physical test,  Blood test,  ...   4\n",
              "( First consult,  Blood test,  X-ray scan,  Phy...  18\n",
              "( First consult,  X-ray scan,  Physical test,  ...  12\n",
              "( First consult,  Physical test,  Blood test,  ...   3\n",
              "( First consult,  Physical test,  X-ray scan,  ...  11\n",
              "( First consult,  X-ray scan,  Blood test,  Phy...   9\n",
              "( First consult,  Blood test,  Physical test,  ...  14\n",
              "( First consult,  X-ray scan,  Blood test,  Phy...   4\n",
              "( First consult,  Physical test,  Blood test,  ...   2\n",
              "( First consult,  Blood test,  Physical test,  ...   3\n",
              "( First consult,  Physical test,  X-ray scan,  ...   3\n",
              "( First consult,  X-ray scan,  Physical test,  ...   2\n",
              "( First consult,  Blood test,  Physical test,  ...   3"
            ],
            "text/html": [
              "\n",
              "  <div id=\"df-a790a4fd-e835-40ea-8068-3ee9fb8e07bf\">\n",
              "    <div class=\"colab-df-container\">\n",
              "      <div>\n",
              "<style scoped>\n",
              "    .dataframe tbody tr th:only-of-type {\n",
              "        vertical-align: middle;\n",
              "    }\n",
              "\n",
              "    .dataframe tbody tr th {\n",
              "        vertical-align: top;\n",
              "    }\n",
              "\n",
              "    .dataframe thead th {\n",
              "        text-align: right;\n",
              "    }\n",
              "</style>\n",
              "<table border=\"1\" class=\"dataframe\">\n",
              "  <thead>\n",
              "    <tr style=\"text-align: right;\">\n",
              "      <th></th>\n",
              "      <th>0</th>\n",
              "    </tr>\n",
              "  </thead>\n",
              "  <tbody>\n",
              "    <tr>\n",
              "      <th>( First consult,  Blood test,  Physical test,  Second consult,  Surgery,  Final consult)</th>\n",
              "      <td>2</td>\n",
              "    </tr>\n",
              "    <tr>\n",
              "      <th>( First consult,  Physical test,  Blood test,  X-ray scan,  Second consult,  Medicine,  Final consult)</th>\n",
              "      <td>10</td>\n",
              "    </tr>\n",
              "    <tr>\n",
              "      <th>( First consult,  Physical test,  Blood test,  X-ray scan,  Second consult,  Surgery,  Final consult)</th>\n",
              "      <td>4</td>\n",
              "    </tr>\n",
              "    <tr>\n",
              "      <th>( First consult,  Blood test,  X-ray scan,  Physical test,  Second consult,  Medicine,  Final consult)</th>\n",
              "      <td>18</td>\n",
              "    </tr>\n",
              "    <tr>\n",
              "      <th>( First consult,  X-ray scan,  Physical test,  Blood test,  Second consult,  Medicine,  Final consult)</th>\n",
              "      <td>12</td>\n",
              "    </tr>\n",
              "    <tr>\n",
              "      <th>( First consult,  Physical test,  Blood test,  Second consult,  Medicine,  Final consult)</th>\n",
              "      <td>3</td>\n",
              "    </tr>\n",
              "    <tr>\n",
              "      <th>( First consult,  Physical test,  X-ray scan,  Blood test,  Second consult,  Medicine,  Final consult)</th>\n",
              "      <td>11</td>\n",
              "    </tr>\n",
              "    <tr>\n",
              "      <th>( First consult,  X-ray scan,  Blood test,  Physical test,  Second consult,  Medicine,  Final consult)</th>\n",
              "      <td>9</td>\n",
              "    </tr>\n",
              "    <tr>\n",
              "      <th>( First consult,  Blood test,  Physical test,  X-ray scan,  Second consult,  Medicine,  Final consult)</th>\n",
              "      <td>14</td>\n",
              "    </tr>\n",
              "    <tr>\n",
              "      <th>( First consult,  X-ray scan,  Blood test,  Physical test,  Second consult,  Surgery,  Final consult)</th>\n",
              "      <td>4</td>\n",
              "    </tr>\n",
              "    <tr>\n",
              "      <th>( First consult,  Physical test,  Blood test,  Second consult,  Surgery,  Final consult)</th>\n",
              "      <td>2</td>\n",
              "    </tr>\n",
              "    <tr>\n",
              "      <th>( First consult,  Blood test,  Physical test,  Second consult,  Medicine,  Final consult)</th>\n",
              "      <td>3</td>\n",
              "    </tr>\n",
              "    <tr>\n",
              "      <th>( First consult,  Physical test,  X-ray scan,  Blood test,  Second consult,  Surgery,  Final consult)</th>\n",
              "      <td>3</td>\n",
              "    </tr>\n",
              "    <tr>\n",
              "      <th>( First consult,  X-ray scan,  Physical test,  Blood test,  Second consult,  Surgery,  Final consult)</th>\n",
              "      <td>2</td>\n",
              "    </tr>\n",
              "    <tr>\n",
              "      <th>( First consult,  Blood test,  Physical test,  X-ray scan,  Second consult,  Surgery,  Final consult)</th>\n",
              "      <td>3</td>\n",
              "    </tr>\n",
              "  </tbody>\n",
              "</table>\n",
              "</div>\n",
              "      <button class=\"colab-df-convert\" onclick=\"convertToInteractive('df-a790a4fd-e835-40ea-8068-3ee9fb8e07bf')\"\n",
              "              title=\"Convert this dataframe to an interactive table.\"\n",
              "              style=\"display:none;\">\n",
              "        \n",
              "  <svg xmlns=\"http://www.w3.org/2000/svg\" height=\"24px\"viewBox=\"0 0 24 24\"\n",
              "       width=\"24px\">\n",
              "    <path d=\"M0 0h24v24H0V0z\" fill=\"none\"/>\n",
              "    <path d=\"M18.56 5.44l.94 2.06.94-2.06 2.06-.94-2.06-.94-.94-2.06-.94 2.06-2.06.94zm-11 1L8.5 8.5l.94-2.06 2.06-.94-2.06-.94L8.5 2.5l-.94 2.06-2.06.94zm10 10l.94 2.06.94-2.06 2.06-.94-2.06-.94-.94-2.06-.94 2.06-2.06.94z\"/><path d=\"M17.41 7.96l-1.37-1.37c-.4-.4-.92-.59-1.43-.59-.52 0-1.04.2-1.43.59L10.3 9.45l-7.72 7.72c-.78.78-.78 2.05 0 2.83L4 21.41c.39.39.9.59 1.41.59.51 0 1.02-.2 1.41-.59l7.78-7.78 2.81-2.81c.8-.78.8-2.07 0-2.86zM5.41 20L4 18.59l7.72-7.72 1.47 1.35L5.41 20z\"/>\n",
              "  </svg>\n",
              "      </button>\n",
              "      \n",
              "  <style>\n",
              "    .colab-df-container {\n",
              "      display:flex;\n",
              "      flex-wrap:wrap;\n",
              "      gap: 12px;\n",
              "    }\n",
              "\n",
              "    .colab-df-convert {\n",
              "      background-color: #E8F0FE;\n",
              "      border: none;\n",
              "      border-radius: 50%;\n",
              "      cursor: pointer;\n",
              "      display: none;\n",
              "      fill: #1967D2;\n",
              "      height: 32px;\n",
              "      padding: 0 0 0 0;\n",
              "      width: 32px;\n",
              "    }\n",
              "\n",
              "    .colab-df-convert:hover {\n",
              "      background-color: #E2EBFA;\n",
              "      box-shadow: 0px 1px 2px rgba(60, 64, 67, 0.3), 0px 1px 3px 1px rgba(60, 64, 67, 0.15);\n",
              "      fill: #174EA6;\n",
              "    }\n",
              "\n",
              "    [theme=dark] .colab-df-convert {\n",
              "      background-color: #3B4455;\n",
              "      fill: #D2E3FC;\n",
              "    }\n",
              "\n",
              "    [theme=dark] .colab-df-convert:hover {\n",
              "      background-color: #434B5C;\n",
              "      box-shadow: 0px 1px 3px 1px rgba(0, 0, 0, 0.15);\n",
              "      filter: drop-shadow(0px 1px 2px rgba(0, 0, 0, 0.3));\n",
              "      fill: #FFFFFF;\n",
              "    }\n",
              "  </style>\n",
              "\n",
              "      <script>\n",
              "        const buttonEl =\n",
              "          document.querySelector('#df-a790a4fd-e835-40ea-8068-3ee9fb8e07bf button.colab-df-convert');\n",
              "        buttonEl.style.display =\n",
              "          google.colab.kernel.accessAllowed ? 'block' : 'none';\n",
              "\n",
              "        async function convertToInteractive(key) {\n",
              "          const element = document.querySelector('#df-a790a4fd-e835-40ea-8068-3ee9fb8e07bf');\n",
              "          const dataTable =\n",
              "            await google.colab.kernel.invokeFunction('convertToInteractive',\n",
              "                                                     [key], {});\n",
              "          if (!dataTable) return;\n",
              "\n",
              "          const docLinkHtml = 'Like what you see? Visit the ' +\n",
              "            '<a target=\"_blank\" href=https://colab.research.google.com/notebooks/data_table.ipynb>data table notebook</a>'\n",
              "            + ' to learn more about interactive tables.';\n",
              "          element.innerHTML = '';\n",
              "          dataTable['output_type'] = 'display_data';\n",
              "          await google.colab.output.renderOutput(dataTable, element);\n",
              "          const docLink = document.createElement('div');\n",
              "          docLink.innerHTML = docLinkHtml;\n",
              "          element.appendChild(docLink);\n",
              "        }\n",
              "      </script>\n",
              "    </div>\n",
              "  </div>\n",
              "  "
            ]
          },
          "metadata": {},
          "execution_count": 30
        }
      ]
    },
    {
      "cell_type": "code",
      "source": [
        "# Cuántas veces se encuentra la actividad 'a' en las secuencias?\n",
        "# Ejemplo: First consult: {0:100} se encuentra los 100 eventos como orden 0 (el primero)\n",
        "# Blood test en 40 ocasiones es la 2a actividad, en 32 la 3a y en 28 la 4a.\n",
        "for a in action:\n",
        "  num = pm4py.get_activity_position_summary(event_log, a ,activity_key='concept:name', case_id_key='case:concept:name', timestamp_key='time:timestamp')\n",
        "  print(a, num)"
      ],
      "metadata": {
        "colab": {
          "base_uri": "https://localhost:8080/"
        },
        "id": "iVW0du0lw4Y7",
        "outputId": "d7b3f93c-46b8-4486-fd6d-520451593428"
      },
      "execution_count": 48,
      "outputs": [
        {
          "output_type": "stream",
          "name": "stdout",
          "text": [
            " First consult {0: 100}\n",
            " Blood test {1: 40, 2: 32, 3: 28}\n",
            " Physical test {2: 36, 1: 33, 3: 31}\n",
            " Second consult {4: 90, 3: 10}\n",
            " Surgery {5: 16, 4: 4}\n",
            " Final consult {6: 90, 5: 10}\n",
            " X-ray scan {2: 32, 3: 31, 1: 27}\n",
            " Medicine {5: 74, 4: 6}\n"
          ]
        }
      ]
    },
    {
      "cell_type": "code",
      "source": [
        "patients = [x for x in event_log.patient.unique()]\n",
        "patients[:3]"
      ],
      "metadata": {
        "colab": {
          "base_uri": "https://localhost:8080/"
        },
        "id": "3oLAy2OQ4oMr",
        "outputId": "b679dfa4-4dd5-4c15-a5ac-80eb113bc22d"
      },
      "execution_count": 51,
      "outputs": [
        {
          "output_type": "execute_result",
          "data": {
            "text/plain": [
              "['patient 0', 'patient 1', 'patient 10']"
            ]
          },
          "metadata": {},
          "execution_count": 51
        }
      ]
    },
    {
      "cell_type": "code",
      "source": [
        "# Duración por caso (paciente)\n",
        "for p in patients:\n",
        "  d = pm4py.get_case_duration(event_log, p)\n",
        "  print(p, d)"
      ],
      "metadata": {
        "colab": {
          "base_uri": "https://localhost:8080/"
        },
        "id": "ebcEsIlO4mj-",
        "outputId": "6a67e205-01d0-4aff-8d5e-063e203c25c2"
      },
      "execution_count": 55,
      "outputs": [
        {
          "output_type": "stream",
          "name": "stderr",
          "text": [
            "/usr/local/lib/python3.8/dist-packages/pm4py/statistics/traces/generic/pandas/case_statistics.py:185: FutureWarning: casting datetime64[ns, UTC] values to int64 with .astype(...) is deprecated and will raise in a future version. Use .view(...) instead.\n",
            "  stacked_df[timestamp_key + \"_2\"] = stacked_df[timestamp_key + \"_2\"].astype('int64') // 10 ** 9\n",
            "/usr/local/lib/python3.8/dist-packages/pm4py/statistics/traces/generic/pandas/case_statistics.py:186: FutureWarning: casting datetime64[ns, UTC] values to int64 with .astype(...) is deprecated and will raise in a future version. Use .view(...) instead.\n",
            "  stacked_df[start_timestamp_key] = stacked_df[start_timestamp_key].astype('int64') // 10 ** 9\n"
          ]
        },
        {
          "output_type": "stream",
          "name": "stdout",
          "text": [
            "patient 0 593357.0\n",
            "patient 1 359926.0\n",
            "patient 10 1112762.0\n",
            "patient 11 1197473.0\n",
            "patient 12 603319.0\n",
            "patient 13 693634.0\n",
            "patient 14 682715.0\n",
            "patient 15 683701.0\n",
            "patient 16 1008518.0\n",
            "patient 17 1125842.0\n",
            "patient 18 679722.0\n",
            "patient 19 856484.0\n",
            "patient 2 1129919.0\n",
            "patient 20 698084.0\n",
            "patient 21 1020540.0\n",
            "patient 22 874830.0\n",
            "patient 23 1381280.0\n",
            "patient 24 531349.0\n",
            "patient 25 419066.0\n",
            "patient 26 628224.0\n",
            "patient 27 621457.0\n",
            "patient 28 1026792.0\n",
            "patient 29 758873.0\n",
            "patient 3 1026368.0\n",
            "patient 30 608684.0\n",
            "patient 31 603232.0\n",
            "patient 32 575205.0\n",
            "patient 33 838455.0\n",
            "patient 34 873454.0\n",
            "patient 35 250020.0\n",
            "patient 36 780415.0\n",
            "patient 37 1298409.0\n",
            "patient 38 953274.0\n",
            "patient 39 256478.0\n",
            "patient 4 1196574.0\n",
            "patient 40 272357.0\n",
            "patient 41 611127.0\n",
            "patient 42 622221.0\n",
            "patient 43 606533.0\n",
            "patient 44 775073.0\n",
            "patient 45 1121202.0\n",
            "patient 46 1040567.0\n",
            "patient 47 1478584.0\n",
            "patient 48 424825.0\n",
            "patient 49 797009.0\n",
            "patient 5 788093.0\n",
            "patient 50 1110755.0\n",
            "patient 51 1024701.0\n",
            "patient 52 607342.0\n",
            "patient 53 794560.0\n",
            "patient 54 284831.0\n",
            "patient 55 458801.0\n",
            "patient 56 949810.0\n",
            "patient 57 369153.0\n",
            "patient 58 1281030.0\n",
            "patient 59 688596.0\n",
            "patient 6 1277053.0\n",
            "patient 60 536839.0\n",
            "patient 61 527172.0\n",
            "patient 62 1123298.0\n",
            "patient 63 952806.0\n",
            "patient 64 1447850.0\n",
            "patient 65 574218.0\n",
            "patient 66 800812.0\n",
            "patient 67 958235.0\n",
            "patient 68 595345.0\n",
            "patient 69 850875.0\n",
            "patient 7 677531.0\n",
            "patient 70 690760.0\n",
            "patient 71 861503.0\n",
            "patient 72 1187272.0\n",
            "patient 73 946219.0\n",
            "patient 74 763378.0\n",
            "patient 75 601951.0\n",
            "patient 76 92044.0\n",
            "patient 77 780410.0\n",
            "patient 78 1279091.0\n",
            "patient 79 1026471.0\n",
            "patient 8 848601.0\n",
            "patient 80 857324.0\n",
            "patient 81 529747.0\n",
            "patient 82 611555.0\n",
            "patient 83 1460898.0\n",
            "patient 84 1047221.0\n",
            "patient 85 1022248.0\n",
            "patient 86 857050.0\n",
            "patient 87 1314887.0\n",
            "patient 88 506864.0\n",
            "patient 89 874761.0\n",
            "patient 9 928971.0\n",
            "patient 90 263060.0\n",
            "patient 91 871749.0\n",
            "patient 92 1121449.0\n",
            "patient 93 1012042.0\n",
            "patient 94 1455645.0\n",
            "patient 95 954266.0\n",
            "patient 96 799596.0\n",
            "patient 97 453235.0\n",
            "patient 98 1221565.0\n",
            "patient 99 1126172.0\n"
          ]
        }
      ]
    },
    {
      "cell_type": "code",
      "source": [
        "map = pm4py.discover_heuristics_net(event_log)\n",
        "pm4py.view_heuristics_net(map)"
      ],
      "metadata": {
        "colab": {
          "base_uri": "https://localhost:8080/",
          "height": 772
        },
        "id": "z8bbNVPg0xN5",
        "outputId": "f2700a76-74a5-403e-9889-753eb38423da"
      },
      "execution_count": 49,
      "outputs": [
        {
          "output_type": "display_data",
          "data": {
            "image/png": "[encoded data removed]",
            "text/plain": [
              "<IPython.core.display.Image object>"
            ]
          },
          "metadata": {}
        }
      ]
    },
    {
      "cell_type": "code",
      "source": [
        "tree = pm4py.discover_process_tree_inductive(event_log)\n",
        "pm4py.view_process_tree(tree)\n"
      ],
      "metadata": {
        "colab": {
          "base_uri": "https://localhost:8080/",
          "height": 364
        },
        "id": "3pdL8xL87Xvh",
        "outputId": "2d2d00f7-a0c2-4080-98f4-f2a5305f6cb2"
      },
      "execution_count": 61,
      "outputs": [
        {
          "output_type": "display_data",
          "data": {
            "image/png": "[encoded data removed]",
            "text/plain": [
              "<IPython.core.display.Image object>"
            ]
          },
          "metadata": {}
        }
      ]
    },
    {
      "cell_type": "code",
      "source": [
        "net, im, fm = pm4py.discover_petri_net_heuristics(event_log, dependency_threshold=0.99)\n",
        "net, initial_marking, final_marking = pm4py.convert_to_petri_net(tree)\n",
        "pm4py.view_petri_net(net, im, fm)"
      ],
      "metadata": {
        "colab": {
          "base_uri": "https://localhost:8080/",
          "height": 266
        },
        "id": "M8mNc4aA8FMm",
        "outputId": "af94a4bc-c023-4933-e1c1-fc627688bf8a"
      },
      "execution_count": 62,
      "outputs": [
        {
          "output_type": "display_data",
          "data": {
            "image/png": "[encoded data removed]",
            "text/plain": [
              "<IPython.core.display.Image object>"
            ]
          },
          "metadata": {}
        }
      ]
    },
    {
      "cell_type": "code",
      "source": [
        "from pm4py.visualization.petri_net import visualizer as pn_visualizer\n",
        "parameters = {pn_visualizer.Variants.FREQUENCY.value.Parameters.FORMAT: \"png\"}\n",
        "gviz = pn_visualizer.apply(net, initial_marking, final_marking, parameters=parameters, variant=pn_visualizer.Variants.FREQUENCY, log=event_log)\n",
        "#pn_visualizer.save(gviz, \"inductive_frequency.png\")\n",
        "gviz"
      ],
      "metadata": {
        "colab": {
          "base_uri": "https://localhost:8080/",
          "height": 390,
          "referenced_widgets": [
            "3970fb332dce45e6ac6003a5623087da",
            "5d4c564ca23f46f98615f91cbc0734de",
            "c2f9591a2a8e4f30a9a403b104301d35",
            "b47fdb84f8014e318551433019d13ee5",
            "6868b79c41ab4f49a5b8458510ea08ff",
            "2b148b6ff114438d84247141b1eeff66",
            "aa97ad4691624c9095425fe9ba2390d0",
            "76a275cdbb65491c8ba3691bbed63044",
            "fdfc2189a9874407a0b38b708de68d95",
            "37a8762e5fbd4deebfd763eeda7f8463",
            "1718c96fd2944b7a868dbd4ee024edeb"
          ]
        },
        "id": "FKv6IU9z5u-d",
        "outputId": "e12a52ef-12e7-4c73-c69d-388653be6b98"
      },
      "execution_count": 65,
      "outputs": [
        {
          "output_type": "display_data",
          "data": {
            "text/plain": [
              "replaying log with TBR, completed variants ::   0%|          | 0/15 [00:00<?, ?it/s]"
            ],
            "application/vnd.jupyter.widget-view+json": {
              "version_major": 2,
              "version_minor": 0,
              "model_id": "3970fb332dce45e6ac6003a5623087da"
            }
          },
          "metadata": {}
        },
        {
          "output_type": "execute_result",
          "data": {
            "text/plain": [
              "<graphviz.dot.Digraph at 0x7fa39acbf310>"
            ],
            "image/svg+xml": "<?xml version=\"1.0\" encoding=\"UTF-8\" standalone=\"no\"?>\n<!DOCTYPE svg PUBLIC \"-//W3C//DTD SVG 1.1//EN\"\n \"http://www.w3.org/Graphics/SVG/1.1/DTD/svg11.dtd\">\n<!-- Generated by graphviz version 2.40.1 (20161225.0304)\n -->\n<!-- Title: imdf_net_1670523150.883274 Pages: 1 -->\n<svg width=\"1406pt\" height=\"237pt\"\n viewBox=\"0.00 0.00 1406.00 237.00\" xmlns=\"http://www.w3.org/2000/svg\" xmlns:xlink=\"http://www.w3.org/1999/xlink\">\n<g id=\"graph0\" class=\"graph\" transform=\"scale(1 1) rotate(0) translate(4 233)\">\n<title>imdf_net_1670523150.883274</title>\n<polygon fill=\"#ffffff\" stroke=\"transparent\" points=\"-4,4 -4,-233 1402,-233 1402,4 -4,4\"/>\n<!-- 140340653298016 -->\n<g id=\"node1\" class=\"node\">\n<title>140340653298016</title>\n<polygon fill=\"#a6a6ff\" stroke=\"#000000\" points=\"479.5,-90 385.5,-90 385.5,-54 479.5,-54 479.5,-90\"/>\n<text text-anchor=\"middle\" x=\"432.5\" y=\"-68.9\" font-family=\"Times,serif\" font-size=\"12.00\" fill=\"#000000\"> X&#45;ray scan (90)</text>\n</g>\n<!-- 140340653300848 -->\n<g id=\"node11\" class=\"node\">\n<title>140340653300848</title>\n<ellipse fill=\"none\" stroke=\"#000000\" cx=\"568\" cy=\"-58\" rx=\"27\" ry=\"27\"/>\n</g>\n<!-- 140340653298016&#45;&gt;140340653300848 -->\n<g id=\"edge8\" class=\"edge\">\n<title>140340653298016&#45;&gt;140340653300848</title>\n<path fill=\"none\" stroke=\"#000000\" stroke-width=\"2.4222\" d=\"M479.511,-67.1428C496.3152,-65.4065 515.0032,-63.4757 530.859,-61.8374\"/>\n<polygon fill=\"#000000\" stroke=\"#000000\" stroke-width=\"2.4222\" points=\"531.2341,-65.3174 540.8214,-60.8081 530.5146,-58.3545 531.2341,-65.3174\"/>\n<text text-anchor=\"middle\" x=\"513.5\" y=\"-68.4\" font-family=\"Times,serif\" font-size=\"12.00\" fill=\"#000000\">90</text>\n</g>\n<!-- 140340653301184 -->\n<g id=\"node2\" class=\"node\">\n<title>140340653301184</title>\n<polygon fill=\"#9b9bff\" stroke=\"#000000\" points=\"770,-148 650,-148 650,-112 770,-112 770,-148\"/>\n<text text-anchor=\"middle\" x=\"710\" y=\"-126.9\" font-family=\"Times,serif\" font-size=\"12.00\" fill=\"#000000\"> Second consult (100)</text>\n</g>\n<!-- 140340653078272 -->\n<g id=\"node12\" class=\"node\">\n<title>140340653078272</title>\n<ellipse fill=\"none\" stroke=\"#000000\" cx=\"852\" cy=\"-130\" rx=\"27\" ry=\"27\"/>\n</g>\n<!-- 140340653301184&#45;&gt;140340653078272 -->\n<g id=\"edge4\" class=\"edge\">\n<title>140340653301184&#45;&gt;140340653078272</title>\n<path fill=\"none\" stroke=\"#000000\" stroke-width=\"2.6\" d=\"M770.2208,-130C785.2514,-130 800.9419,-130 814.5126,-130\"/>\n<polygon fill=\"#000000\" stroke=\"#000000\" stroke-width=\"2.6\" points=\"814.8886,-133.5001 824.8886,-130 814.8885,-126.5001 814.8886,-133.5001\"/>\n<text text-anchor=\"middle\" x=\"797.5\" y=\"-133.4\" font-family=\"Times,serif\" font-size=\"12.00\" fill=\"#000000\">100</text>\n</g>\n<!-- 140340653300896 -->\n<g id=\"node3\" class=\"node\">\n<title>140340653300896</title>\n<polygon fill=\"#f3f3ff\" stroke=\"#000000\" points=\"1011,-175 931,-175 931,-139 1011,-139 1011,-175\"/>\n<text text-anchor=\"middle\" x=\"971\" y=\"-153.9\" font-family=\"Times,serif\" font-size=\"12.00\" fill=\"#000000\"> Surgery (20)</text>\n</g>\n<!-- 140340653297824 -->\n<g id=\"node13\" class=\"node\">\n<title>140340653297824</title>\n<ellipse fill=\"none\" stroke=\"#000000\" cx=\"1090\" cy=\"-130\" rx=\"27\" ry=\"27\"/>\n</g>\n<!-- 140340653300896&#45;&gt;140340653297824 -->\n<g id=\"edge6\" class=\"edge\">\n<title>140340653300896&#45;&gt;140340653297824</title>\n<path fill=\"none\" stroke=\"#000000\" stroke-width=\"1.1778\" d=\"M1011.288,-147.859C1025.0432,-144.7381 1040.3329,-141.269 1053.7507,-138.2246\"/>\n<polygon fill=\"#000000\" stroke=\"#000000\" stroke-width=\"1.1778\" points=\"1054.6124,-141.6182 1063.59,-135.9922 1053.0634,-134.7917 1054.6124,-141.6182\"/>\n<text text-anchor=\"middle\" x=\"1038.5\" y=\"-145.4\" font-family=\"Times,serif\" font-size=\"12.00\" fill=\"#000000\">20</text>\n</g>\n<!-- 140340653299552 -->\n<g id=\"node4\" class=\"node\">\n<title>140340653299552</title>\n<polygon fill=\"#9b9bff\" stroke=\"#000000\" points=\"1281,-148 1172,-148 1172,-112 1281,-112 1281,-148\"/>\n<text text-anchor=\"middle\" x=\"1226.5\" y=\"-126.9\" font-family=\"Times,serif\" font-size=\"12.00\" fill=\"#000000\"> Final consult (100)</text>\n</g>\n<!-- 140340653174944 -->\n<g id=\"node19\" class=\"node\">\n<title>140340653174944</title>\n<ellipse fill=\"none\" stroke=\"#000000\" cx=\"1367\" cy=\"-130\" rx=\"27\" ry=\"27\"/>\n<ellipse fill=\"none\" stroke=\"#000000\" cx=\"1367\" cy=\"-130\" rx=\"31\" ry=\"31\"/>\n<text text-anchor=\"start\" x=\"1357\" y=\"-121.9\" font-family=\"Times,serif\" font-size=\"32.00\" fill=\"#000000\">■</text>\n</g>\n<!-- 140340653299552&#45;&gt;140340653174944 -->\n<g id=\"edge5\" class=\"edge\">\n<title>140340653299552&#45;&gt;140340653174944</title>\n<path fill=\"none\" stroke=\"#000000\" stroke-width=\"2.6\" d=\"M1281.2233,-130C1295.9593,-130 1311.6547,-130 1325.5368,-130\"/>\n<polygon fill=\"#000000\" stroke=\"#000000\" stroke-width=\"2.6\" points=\"1325.7531,-133.5001 1335.7531,-130 1325.753,-126.5001 1325.7531,-133.5001\"/>\n<text text-anchor=\"middle\" x=\"1308.5\" y=\"-133.4\" font-family=\"Times,serif\" font-size=\"12.00\" fill=\"#000000\">100</text>\n</g>\n<!-- 140340653211312 -->\n<g id=\"node5\" class=\"node\">\n<title>140340653211312</title>\n<polygon fill=\"#9b9bff\" stroke=\"#000000\" points=\"215,-148 109,-148 109,-112 215,-112 215,-148\"/>\n<text text-anchor=\"middle\" x=\"162\" y=\"-126.9\" font-family=\"Times,serif\" font-size=\"12.00\" fill=\"#000000\"> First consult (100)</text>\n</g>\n<!-- 140340653078224 -->\n<g id=\"node14\" class=\"node\">\n<title>140340653078224</title>\n<ellipse fill=\"none\" stroke=\"#000000\" cx=\"297\" cy=\"-202\" rx=\"27\" ry=\"27\"/>\n</g>\n<!-- 140340653211312&#45;&gt;140340653078224 -->\n<g id=\"edge1\" class=\"edge\">\n<title>140340653211312&#45;&gt;140340653078224</title>\n<path fill=\"none\" stroke=\"#000000\" stroke-width=\"2.6\" d=\"M196.0662,-148.1686C216.9291,-159.2955 243.4928,-173.4628 264.1319,-184.4704\"/>\n<polygon fill=\"#000000\" stroke=\"#000000\" stroke-width=\"2.6\" points=\"262.6855,-187.6656 273.1561,-189.2832 265.9796,-181.4891 262.6855,-187.6656\"/>\n<text text-anchor=\"middle\" x=\"242.5\" y=\"-179.4\" font-family=\"Times,serif\" font-size=\"12.00\" fill=\"#000000\">100</text>\n</g>\n<!-- 140340653454528 -->\n<g id=\"node16\" class=\"node\">\n<title>140340653454528</title>\n<ellipse fill=\"none\" stroke=\"#000000\" cx=\"297\" cy=\"-130\" rx=\"27\" ry=\"27\"/>\n</g>\n<!-- 140340653211312&#45;&gt;140340653454528 -->\n<g id=\"edge2\" class=\"edge\">\n<title>140340653211312&#45;&gt;140340653454528</title>\n<path fill=\"none\" stroke=\"#000000\" stroke-width=\"2.6\" d=\"M215.3556,-130C230.2731,-130 246.1556,-130 259.9088,-130\"/>\n<polygon fill=\"#000000\" stroke=\"#000000\" stroke-width=\"2.6\" points=\"259.9597,-133.5001 269.9596,-130 259.9596,-126.5001 259.9597,-133.5001\"/>\n<text text-anchor=\"middle\" x=\"242.5\" y=\"-133.4\" font-family=\"Times,serif\" font-size=\"12.00\" fill=\"#000000\">100</text>\n</g>\n<!-- 140340653300752 -->\n<g id=\"node18\" class=\"node\">\n<title>140340653300752</title>\n<ellipse fill=\"none\" stroke=\"#000000\" cx=\"297\" cy=\"-58\" rx=\"27\" ry=\"27\"/>\n</g>\n<!-- 140340653211312&#45;&gt;140340653300752 -->\n<g id=\"edge3\" class=\"edge\">\n<title>140340653211312&#45;&gt;140340653300752</title>\n<path fill=\"none\" stroke=\"#000000\" stroke-width=\"2.6\" d=\"M196.0662,-111.8314C216.9291,-100.7045 243.4928,-86.5372 264.1319,-75.5296\"/>\n<polygon fill=\"#000000\" stroke=\"#000000\" stroke-width=\"2.6\" points=\"265.9796,-78.5109 273.1561,-70.7168 262.6855,-72.3344 265.9796,-78.5109\"/>\n<text text-anchor=\"middle\" x=\"242.5\" y=\"-95.4\" font-family=\"Times,serif\" font-size=\"12.00\" fill=\"#000000\">100</text>\n</g>\n<!-- 140340653187376 -->\n<g id=\"node6\" class=\"node\">\n<title>140340653187376</title>\n<polygon fill=\"#9b9bff\" stroke=\"#000000\" points=\"486,-220 379,-220 379,-184 486,-184 486,-220\"/>\n<text text-anchor=\"middle\" x=\"432.5\" y=\"-198.9\" font-family=\"Times,serif\" font-size=\"12.00\" fill=\"#000000\"> Physical test (100)</text>\n</g>\n<!-- 140340653730016 -->\n<g id=\"node15\" class=\"node\">\n<title>140340653730016</title>\n<ellipse fill=\"none\" stroke=\"#000000\" cx=\"568\" cy=\"-202\" rx=\"27\" ry=\"27\"/>\n</g>\n<!-- 140340653187376&#45;&gt;140340653730016 -->\n<g id=\"edge7\" class=\"edge\">\n<title>140340653187376&#45;&gt;140340653730016</title>\n<path fill=\"none\" stroke=\"#000000\" stroke-width=\"2.6\" d=\"M486.0532,-202C501.0259,-202 516.9673,-202 530.7714,-202\"/>\n<polygon fill=\"#000000\" stroke=\"#000000\" stroke-width=\"2.6\" points=\"530.8595,-205.5001 540.8595,-202 530.8595,-198.5001 530.8595,-205.5001\"/>\n<text text-anchor=\"middle\" x=\"513.5\" y=\"-205.4\" font-family=\"Times,serif\" font-size=\"12.00\" fill=\"#000000\">100</text>\n</g>\n<!-- 140340653301232 -->\n<g id=\"node7\" class=\"node\">\n<title>140340653301232</title>\n<polygon fill=\"#9b9bff\" stroke=\"#000000\" points=\"480.5,-148 384.5,-148 384.5,-112 480.5,-112 480.5,-148\"/>\n<text text-anchor=\"middle\" x=\"432.5\" y=\"-126.9\" font-family=\"Times,serif\" font-size=\"12.00\" fill=\"#000000\"> Blood test (100)</text>\n</g>\n<!-- 140340653298736 -->\n<g id=\"node17\" class=\"node\">\n<title>140340653298736</title>\n<ellipse fill=\"none\" stroke=\"#000000\" cx=\"568\" cy=\"-130\" rx=\"27\" ry=\"27\"/>\n</g>\n<!-- 140340653301232&#45;&gt;140340653298736 -->\n<g id=\"edge10\" class=\"edge\">\n<title>140340653301232&#45;&gt;140340653298736</title>\n<path fill=\"none\" stroke=\"#000000\" stroke-width=\"2.6\" d=\"M480.6538,-130C497.0939,-130 515.2183,-130 530.6758,-130\"/>\n<polygon fill=\"#000000\" stroke=\"#000000\" stroke-width=\"2.6\" points=\"530.8976,-133.5001 540.8976,-130 530.8976,-126.5001 530.8976,-133.5001\"/>\n<text text-anchor=\"middle\" x=\"513.5\" y=\"-133.4\" font-family=\"Times,serif\" font-size=\"12.00\" fill=\"#000000\">100</text>\n</g>\n<!-- 140340653299504 -->\n<g id=\"node8\" class=\"node\">\n<title>140340653299504</title>\n<polygon fill=\"#000000\" stroke=\"#000000\" points=\"459.5,-36 405.5,-36 405.5,0 459.5,0 459.5,-36\"/>\n</g>\n<!-- 140340653299504&#45;&gt;140340653300848 -->\n<g id=\"edge21\" class=\"edge\">\n<title>140340653299504&#45;&gt;140340653300848</title>\n<path fill=\"none\" stroke=\"#000000\" d=\"M459.5948,-25.9985C480.4502,-32.155 509.4618,-40.7193 532.2247,-47.439\"/>\n<polygon fill=\"#000000\" stroke=\"#000000\" points=\"531.2912,-50.8127 541.873,-50.2872 533.2731,-44.0991 531.2912,-50.8127\"/>\n<text text-anchor=\"middle\" x=\"513.5\" y=\"-47.4\" font-family=\"Times,serif\" font-size=\"12.00\" fill=\"#000000\">10</text>\n</g>\n<!-- 140340692516816 -->\n<g id=\"node9\" class=\"node\">\n<title>140340692516816</title>\n<polygon fill=\"#b1b1ff\" stroke=\"#000000\" points=\"1014,-121 928,-121 928,-85 1014,-85 1014,-121\"/>\n<text text-anchor=\"middle\" x=\"971\" y=\"-99.9\" font-family=\"Times,serif\" font-size=\"12.00\" fill=\"#000000\"> Medicine (80)</text>\n</g>\n<!-- 140340692516816&#45;&gt;140340653297824 -->\n<g id=\"edge9\" class=\"edge\">\n<title>140340692516816&#45;&gt;140340653297824</title>\n<path fill=\"none\" stroke=\"#000000\" stroke-width=\"2.2444\" d=\"M1014.2984,-112.824C1027.174,-115.7454 1041.1454,-118.9154 1053.5395,-121.7274\"/>\n<polygon fill=\"#000000\" stroke=\"#000000\" stroke-width=\"2.2444\" points=\"1052.9942,-125.1926 1063.5208,-123.9921 1054.5431,-118.3661 1052.9942,-125.1926\"/>\n<text text-anchor=\"middle\" x=\"1038.5\" y=\"-123.4\" font-family=\"Times,serif\" font-size=\"12.00\" fill=\"#000000\">80</text>\n</g>\n<!-- 140340653178304 -->\n<g id=\"node10\" class=\"node\">\n<title>140340653178304</title>\n<ellipse fill=\"none\" stroke=\"#000000\" cx=\"27\" cy=\"-130\" rx=\"27\" ry=\"27\"/>\n<text text-anchor=\"start\" x=\"16.5\" y=\"-121.3\" font-family=\"Times,serif\" font-size=\"34.00\" fill=\"#000000\">●</text>\n</g>\n<!-- 140340653178304&#45;&gt;140340653211312 -->\n<g id=\"edge22\" class=\"edge\">\n<title>140340653178304&#45;&gt;140340653211312</title>\n<path fill=\"none\" stroke=\"#000000\" stroke-width=\"2.6\" d=\"M54.3193,-130C67.1492,-130 83.0241,-130 98.6062,-130\"/>\n<polygon fill=\"#000000\" stroke=\"#000000\" stroke-width=\"2.6\" points=\"98.7686,-133.5001 108.7686,-130 98.7685,-126.5001 98.7686,-133.5001\"/>\n<text text-anchor=\"middle\" x=\"81.5\" y=\"-133.4\" font-family=\"Times,serif\" font-size=\"12.00\" fill=\"#000000\">100</text>\n</g>\n<!-- 140340653300848&#45;&gt;140340653301184 -->\n<g id=\"edge11\" class=\"edge\">\n<title>140340653300848&#45;&gt;140340653301184</title>\n<path fill=\"none\" stroke=\"#000000\" stroke-width=\"2.6\" d=\"M592.0884,-70.2138C612.085,-80.353 641.0678,-95.0485 665.2943,-107.3323\"/>\n<polygon fill=\"#000000\" stroke=\"#000000\" stroke-width=\"2.6\" points=\"663.8159,-110.5069 674.3178,-111.9076 666.9816,-104.2636 663.8159,-110.5069\"/>\n<text text-anchor=\"middle\" x=\"622.5\" y=\"-93.4\" font-family=\"Times,serif\" font-size=\"12.00\" fill=\"#000000\">100</text>\n</g>\n<!-- 140340653078272&#45;&gt;140340653300896 -->\n<g id=\"edge12\" class=\"edge\">\n<title>140340653078272&#45;&gt;140340653300896</title>\n<path fill=\"none\" stroke=\"#000000\" stroke-width=\"1.1778\" d=\"M878.41,-135.9922C890.8721,-138.8197 906.1739,-142.2916 920.7219,-145.5924\"/>\n<polygon fill=\"#000000\" stroke=\"#000000\" stroke-width=\"1.1778\" points=\"920.1024,-149.0407 930.629,-147.8402 921.6513,-142.2142 920.1024,-149.0407\"/>\n<text text-anchor=\"middle\" x=\"903.5\" y=\"-145.4\" font-family=\"Times,serif\" font-size=\"12.00\" fill=\"#000000\">20</text>\n</g>\n<!-- 140340653078272&#45;&gt;140340692516816 -->\n<g id=\"edge13\" class=\"edge\">\n<title>140340653078272&#45;&gt;140340692516816</title>\n<path fill=\"none\" stroke=\"#000000\" stroke-width=\"2.2444\" d=\"M878.41,-124.0078C890.0911,-121.3575 904.2671,-118.1411 917.9787,-115.03\"/>\n<polygon fill=\"#000000\" stroke=\"#000000\" stroke-width=\"2.2444\" points=\"918.8608,-118.4189 927.8385,-112.793 917.3119,-111.5925 918.8608,-118.4189\"/>\n<text text-anchor=\"middle\" x=\"903.5\" y=\"-123.4\" font-family=\"Times,serif\" font-size=\"12.00\" fill=\"#000000\">80</text>\n</g>\n<!-- 140340653297824&#45;&gt;140340653299552 -->\n<g id=\"edge14\" class=\"edge\">\n<title>140340653297824&#45;&gt;140340653299552</title>\n<path fill=\"none\" stroke=\"#000000\" stroke-width=\"2.6\" d=\"M1117.2947,-130C1130.1228,-130 1146.0141,-130 1161.6653,-130\"/>\n<polygon fill=\"#000000\" stroke=\"#000000\" stroke-width=\"2.6\" points=\"1161.8811,-133.5001 1171.881,-130 1161.881,-126.5001 1161.8811,-133.5001\"/>\n<text text-anchor=\"middle\" x=\"1144.5\" y=\"-133.4\" font-family=\"Times,serif\" font-size=\"12.00\" fill=\"#000000\">100</text>\n</g>\n<!-- 140340653078224&#45;&gt;140340653187376 -->\n<g id=\"edge15\" class=\"edge\">\n<title>140340653078224&#45;&gt;140340653187376</title>\n<path fill=\"none\" stroke=\"#000000\" stroke-width=\"2.6\" d=\"M324.0948,-202C336.9556,-202 352.918,-202 368.6039,-202\"/>\n<polygon fill=\"#000000\" stroke=\"#000000\" stroke-width=\"2.6\" points=\"368.8366,-205.5001 378.8366,-202 368.8366,-198.5001 368.8366,-205.5001\"/>\n<text text-anchor=\"middle\" x=\"351.5\" y=\"-205.4\" font-family=\"Times,serif\" font-size=\"12.00\" fill=\"#000000\">100</text>\n</g>\n<!-- 140340653730016&#45;&gt;140340653301184 -->\n<g id=\"edge16\" class=\"edge\">\n<title>140340653730016&#45;&gt;140340653301184</title>\n<path fill=\"none\" stroke=\"#000000\" stroke-width=\"2.6\" d=\"M592.0884,-189.7862C612.085,-179.647 641.0678,-164.9515 665.2943,-152.6677\"/>\n<polygon fill=\"#000000\" stroke=\"#000000\" stroke-width=\"2.6\" points=\"666.9816,-155.7364 674.3178,-148.0924 663.8159,-149.4931 666.9816,-155.7364\"/>\n<text text-anchor=\"middle\" x=\"622.5\" y=\"-181.4\" font-family=\"Times,serif\" font-size=\"12.00\" fill=\"#000000\">100</text>\n</g>\n<!-- 140340653454528&#45;&gt;140340653301232 -->\n<g id=\"edge17\" class=\"edge\">\n<title>140340653454528&#45;&gt;140340653301232</title>\n<path fill=\"none\" stroke=\"#000000\" stroke-width=\"2.6\" d=\"M324.0948,-130C338.4918,-130 356.7755,-130 374.2073,-130\"/>\n<polygon fill=\"#000000\" stroke=\"#000000\" stroke-width=\"2.6\" points=\"374.3366,-133.5001 384.3365,-130 374.3365,-126.5001 374.3366,-133.5001\"/>\n<text text-anchor=\"middle\" x=\"351.5\" y=\"-133.4\" font-family=\"Times,serif\" font-size=\"12.00\" fill=\"#000000\">100</text>\n</g>\n<!-- 140340653298736&#45;&gt;140340653301184 -->\n<g id=\"edge18\" class=\"edge\">\n<title>140340653298736&#45;&gt;140340653301184</title>\n<path fill=\"none\" stroke=\"#000000\" stroke-width=\"2.6\" d=\"M595.0434,-130C607.7832,-130 623.636,-130 639.4584,-130\"/>\n<polygon fill=\"#000000\" stroke=\"#000000\" stroke-width=\"2.6\" points=\"639.8187,-133.5001 649.8186,-130 639.8186,-126.5001 639.8187,-133.5001\"/>\n<text text-anchor=\"middle\" x=\"622.5\" y=\"-133.4\" font-family=\"Times,serif\" font-size=\"12.00\" fill=\"#000000\">100</text>\n</g>\n<!-- 140340653300752&#45;&gt;140340653298016 -->\n<g id=\"edge19\" class=\"edge\">\n<title>140340653300752&#45;&gt;140340653298016</title>\n<path fill=\"none\" stroke=\"#000000\" stroke-width=\"2.4222\" d=\"M324.0948,-60.7995C338.75,-62.3137 357.4327,-64.244 375.1444,-66.074\"/>\n<polygon fill=\"#000000\" stroke=\"#000000\" stroke-width=\"2.4222\" points=\"375.1161,-69.5896 385.4229,-67.1359 375.8356,-62.6267 375.1161,-69.5896\"/>\n<text text-anchor=\"middle\" x=\"351.5\" y=\"-68.4\" font-family=\"Times,serif\" font-size=\"12.00\" fill=\"#000000\">90</text>\n</g>\n<!-- 140340653300752&#45;&gt;140340653299504 -->\n<g id=\"edge20\" class=\"edge\">\n<title>140340653300752&#45;&gt;140340653299504</title>\n<path fill=\"none\" stroke=\"#000000\" d=\"M323.1258,-50.2876C343.6248,-44.2362 372.4244,-35.7345 395.3257,-28.974\"/>\n<polygon fill=\"#000000\" stroke=\"#000000\" points=\"396.4593,-32.2887 405.0592,-26.1006 394.4774,-25.5751 396.4593,-32.2887\"/>\n<text text-anchor=\"middle\" x=\"351.5\" y=\"-47.4\" font-family=\"Times,serif\" font-size=\"12.00\" fill=\"#000000\">10</text>\n</g>\n</g>\n</svg>\n"
          },
          "metadata": {},
          "execution_count": 65
        }
      ]
    }
  ]
}